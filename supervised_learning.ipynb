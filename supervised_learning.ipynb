{
 "cells": [
  {
   "cell_type": "markdown",
   "metadata": {},
   "source": [
    "# Supervised Learning Energy Modeling"
   ]
  },
  {
   "cell_type": "code",
   "execution_count": 55,
   "metadata": {},
   "outputs": [],
   "source": [
    "import pandas as pd\n",
    "import numpy as np\n",
    "from datetime import datetime"
   ]
  },
  {
   "cell_type": "code",
   "execution_count": 56,
   "metadata": {},
   "outputs": [],
   "source": [
    "from sklearn.model_selection import train_test_split\n",
    "\n",
    "from sklearn.compose import ColumnTransformer\n",
    "from sklearn.impute import SimpleImputer\n",
    "from sklearn.preprocessing import OneHotEncoder\n",
    "from sklearn.preprocessing import StandardScaler\n",
    "from sklearn.model_selection import GridSearchCV\n",
    "from sklearn.pipeline import Pipeline, FeatureUnion\n",
    "\n",
    "from sklearn.metrics import r2_score, mean_absolute_error\n",
    "\n",
    "from sklearn.ensemble import RandomForestRegressor\n",
    "from sklearn.ensemble import GradientBoostingRegressor\n",
    "import lightgbm as lgb\n",
    "import xgboost as xgb"
   ]
  },
  {
   "cell_type": "markdown",
   "metadata": {},
   "source": [
    "#### Feature Importance:\n",
    "From PyCaret Model Evaluation we find that the top 10 features are:\n",
    "- Point_34: \"KING.CC.A1SAK\" - Set Point\n",
    "- Point_17: \"KING.CC.A1LPS\" - Total Flow\n",
    "- Point_37: \"KING.CC.A1SAT\" - Supply Air Temp\n",
    "- Point_21: \"KING.CC.A1MAT\" - Mixed Air Temp\n",
    "- Point_194: \"KING.CC.MUA1SAT\" - Make Up Air Unit Supply Temp\n",
    "- Point_26: \"KING.CC.A1MXRT\" - Max Room Temp\n",
    "- Point_22: \"KING.CC.A1MNRE\" - Min Room Error\n",
    "- Point_9: \"KING.CC.A1CO2\" - Return Carbon Dioxide\n",
    "- Point_13: \"KING.CC.A1DP\" - Duct Pressure Point\n",
    "- Point_23: \"KING.CC.A1MNRT\" - Min Room Temp\n",
    "\n",
    "But we should also look at:\n",
    "- Point_ 10: \"KING.CC.A1DAY\" - Air Handling Unit Supply Fan\n",
    "    - Note: This is the only categorical feature. But it could be interesting to look at. If value is ON that means the building is occupied."
   ]
  },
  {
   "cell_type": "markdown",
   "metadata": {},
   "source": [
    "This makes 11 features that are found to be most correlated with Hourly Energy Consumption, and should be good predictors. Now to take a closer look at them."
   ]
  },
  {
   "cell_type": "code",
   "execution_count": 57,
   "metadata": {},
   "outputs": [
    {
     "name": "stderr",
     "output_type": "stream",
     "text": [
      "/Users/daylin/opt/anaconda3/lib/python3.8/site-packages/IPython/core/interactiveshell.py:3146: DtypeWarning: Columns (27,38,39,67,77,106,163) have mixed types.Specify dtype option on import or set low_memory=False.\n",
      "  has_raised = await self.run_ast_nodes(code_ast.body, cell_name,\n"
     ]
    }
   ],
   "source": [
    "df = pd.read_csv('model_data_v1.csv')"
   ]
  },
  {
   "cell_type": "code",
   "execution_count": 58,
   "metadata": {},
   "outputs": [],
   "source": [
    "df_feat = df[['Hourly Energy Cons (kWh)', 'Point_34', 'Point_17', 'Point_37', 'Point_21', 'Point_194',\n",
    "              'Point_26', 'Point_22', 'Point_9', 'Point_13', 'Point_23', 'Point_10']].copy()"
   ]
  },
  {
   "cell_type": "code",
   "execution_count": 59,
   "metadata": {},
   "outputs": [
    {
     "data": {
      "text/html": [
       "<div>\n",
       "<style scoped>\n",
       "    .dataframe tbody tr th:only-of-type {\n",
       "        vertical-align: middle;\n",
       "    }\n",
       "\n",
       "    .dataframe tbody tr th {\n",
       "        vertical-align: top;\n",
       "    }\n",
       "\n",
       "    .dataframe thead th {\n",
       "        text-align: right;\n",
       "    }\n",
       "</style>\n",
       "<table border=\"1\" class=\"dataframe\">\n",
       "  <thead>\n",
       "    <tr style=\"text-align: right;\">\n",
       "      <th></th>\n",
       "      <th>Hourly Energy Cons (kWh)</th>\n",
       "      <th>Point_34</th>\n",
       "      <th>Point_17</th>\n",
       "      <th>Point_37</th>\n",
       "      <th>Point_21</th>\n",
       "      <th>Point_194</th>\n",
       "      <th>Point_26</th>\n",
       "      <th>Point_22</th>\n",
       "      <th>Point_9</th>\n",
       "      <th>Point_13</th>\n",
       "      <th>Point_23</th>\n",
       "      <th>Point_10</th>\n",
       "    </tr>\n",
       "  </thead>\n",
       "  <tbody>\n",
       "    <tr>\n",
       "      <th>0</th>\n",
       "      <td>15.0</td>\n",
       "      <td>17.8</td>\n",
       "      <td>513</td>\n",
       "      <td>18.9</td>\n",
       "      <td>15.5</td>\n",
       "      <td>17.4</td>\n",
       "      <td>21.3</td>\n",
       "      <td>1.7</td>\n",
       "      <td>413</td>\n",
       "      <td>18</td>\n",
       "      <td>18.0</td>\n",
       "      <td>OFF</td>\n",
       "    </tr>\n",
       "    <tr>\n",
       "      <th>1</th>\n",
       "      <td>15.0</td>\n",
       "      <td>17.8</td>\n",
       "      <td>513</td>\n",
       "      <td>16.9</td>\n",
       "      <td>15.5</td>\n",
       "      <td>16.8</td>\n",
       "      <td>20.7</td>\n",
       "      <td>0.5</td>\n",
       "      <td>413</td>\n",
       "      <td>18</td>\n",
       "      <td>18.0</td>\n",
       "      <td>OFF</td>\n",
       "    </tr>\n",
       "    <tr>\n",
       "      <th>2</th>\n",
       "      <td>10.0</td>\n",
       "      <td>17.8</td>\n",
       "      <td>513</td>\n",
       "      <td>16.9</td>\n",
       "      <td>13.5</td>\n",
       "      <td>16.3</td>\n",
       "      <td>20.7</td>\n",
       "      <td>0.5</td>\n",
       "      <td>413</td>\n",
       "      <td>18</td>\n",
       "      <td>17.4</td>\n",
       "      <td>OFF</td>\n",
       "    </tr>\n",
       "    <tr>\n",
       "      <th>3</th>\n",
       "      <td>15.0</td>\n",
       "      <td>17.8</td>\n",
       "      <td>513</td>\n",
       "      <td>16.9</td>\n",
       "      <td>13.5</td>\n",
       "      <td>16.3</td>\n",
       "      <td>20.2</td>\n",
       "      <td>0.5</td>\n",
       "      <td>413</td>\n",
       "      <td>18</td>\n",
       "      <td>17.4</td>\n",
       "      <td>OFF</td>\n",
       "    </tr>\n",
       "    <tr>\n",
       "      <th>4</th>\n",
       "      <td>15.0</td>\n",
       "      <td>17.8</td>\n",
       "      <td>513</td>\n",
       "      <td>16.9</td>\n",
       "      <td>13.5</td>\n",
       "      <td>16.3</td>\n",
       "      <td>20.2</td>\n",
       "      <td>0.5</td>\n",
       "      <td>413</td>\n",
       "      <td>18</td>\n",
       "      <td>16.9</td>\n",
       "      <td>ON</td>\n",
       "    </tr>\n",
       "    <tr>\n",
       "      <th>...</th>\n",
       "      <td>...</td>\n",
       "      <td>...</td>\n",
       "      <td>...</td>\n",
       "      <td>...</td>\n",
       "      <td>...</td>\n",
       "      <td>...</td>\n",
       "      <td>...</td>\n",
       "      <td>...</td>\n",
       "      <td>...</td>\n",
       "      <td>...</td>\n",
       "      <td>...</td>\n",
       "      <td>...</td>\n",
       "    </tr>\n",
       "    <tr>\n",
       "      <th>8754</th>\n",
       "      <td>10.0</td>\n",
       "      <td>24.2</td>\n",
       "      <td>218</td>\n",
       "      <td>24.7</td>\n",
       "      <td>26.0</td>\n",
       "      <td>26.4</td>\n",
       "      <td>25.1</td>\n",
       "      <td>5.2</td>\n",
       "      <td>397</td>\n",
       "      <td>24</td>\n",
       "      <td>22.2</td>\n",
       "      <td>OFF</td>\n",
       "    </tr>\n",
       "    <tr>\n",
       "      <th>8755</th>\n",
       "      <td>15.0</td>\n",
       "      <td>24.2</td>\n",
       "      <td>218</td>\n",
       "      <td>24.7</td>\n",
       "      <td>28.0</td>\n",
       "      <td>25.9</td>\n",
       "      <td>24.6</td>\n",
       "      <td>5.2</td>\n",
       "      <td>397</td>\n",
       "      <td>24</td>\n",
       "      <td>22.2</td>\n",
       "      <td>OFF</td>\n",
       "    </tr>\n",
       "    <tr>\n",
       "      <th>8756</th>\n",
       "      <td>15.0</td>\n",
       "      <td>24.2</td>\n",
       "      <td>218</td>\n",
       "      <td>24.7</td>\n",
       "      <td>28.0</td>\n",
       "      <td>25.3</td>\n",
       "      <td>24.6</td>\n",
       "      <td>5.2</td>\n",
       "      <td>397</td>\n",
       "      <td>24</td>\n",
       "      <td>22.2</td>\n",
       "      <td>OFF</td>\n",
       "    </tr>\n",
       "    <tr>\n",
       "      <th>8757</th>\n",
       "      <td>25.0</td>\n",
       "      <td>24.2</td>\n",
       "      <td>218</td>\n",
       "      <td>24.7</td>\n",
       "      <td>26.0</td>\n",
       "      <td>24.2</td>\n",
       "      <td>24.6</td>\n",
       "      <td>5.2</td>\n",
       "      <td>397</td>\n",
       "      <td>24</td>\n",
       "      <td>22.2</td>\n",
       "      <td>OFF</td>\n",
       "    </tr>\n",
       "    <tr>\n",
       "      <th>8758</th>\n",
       "      <td>25.0</td>\n",
       "      <td>24.2</td>\n",
       "      <td>218</td>\n",
       "      <td>24.7</td>\n",
       "      <td>24.0</td>\n",
       "      <td>23.0</td>\n",
       "      <td>24.6</td>\n",
       "      <td>5.2</td>\n",
       "      <td>397</td>\n",
       "      <td>24</td>\n",
       "      <td>22.2</td>\n",
       "      <td>OFF</td>\n",
       "    </tr>\n",
       "  </tbody>\n",
       "</table>\n",
       "<p>8759 rows × 12 columns</p>\n",
       "</div>"
      ],
      "text/plain": [
       "      Hourly Energy Cons (kWh)  Point_34  Point_17  Point_37  Point_21  \\\n",
       "0                         15.0      17.8       513      18.9      15.5   \n",
       "1                         15.0      17.8       513      16.9      15.5   \n",
       "2                         10.0      17.8       513      16.9      13.5   \n",
       "3                         15.0      17.8       513      16.9      13.5   \n",
       "4                         15.0      17.8       513      16.9      13.5   \n",
       "...                        ...       ...       ...       ...       ...   \n",
       "8754                      10.0      24.2       218      24.7      26.0   \n",
       "8755                      15.0      24.2       218      24.7      28.0   \n",
       "8756                      15.0      24.2       218      24.7      28.0   \n",
       "8757                      25.0      24.2       218      24.7      26.0   \n",
       "8758                      25.0      24.2       218      24.7      24.0   \n",
       "\n",
       "      Point_194  Point_26  Point_22  Point_9  Point_13  Point_23 Point_10  \n",
       "0          17.4      21.3       1.7      413        18      18.0      OFF  \n",
       "1          16.8      20.7       0.5      413        18      18.0      OFF  \n",
       "2          16.3      20.7       0.5      413        18      17.4      OFF  \n",
       "3          16.3      20.2       0.5      413        18      17.4      OFF  \n",
       "4          16.3      20.2       0.5      413        18      16.9       ON  \n",
       "...         ...       ...       ...      ...       ...       ...      ...  \n",
       "8754       26.4      25.1       5.2      397        24      22.2      OFF  \n",
       "8755       25.9      24.6       5.2      397        24      22.2      OFF  \n",
       "8756       25.3      24.6       5.2      397        24      22.2      OFF  \n",
       "8757       24.2      24.6       5.2      397        24      22.2      OFF  \n",
       "8758       23.0      24.6       5.2      397        24      22.2      OFF  \n",
       "\n",
       "[8759 rows x 12 columns]"
      ]
     },
     "execution_count": 59,
     "metadata": {},
     "output_type": "execute_result"
    }
   ],
   "source": [
    "df_feat"
   ]
  },
  {
   "cell_type": "code",
   "execution_count": 60,
   "metadata": {},
   "outputs": [
    {
     "data": {
      "text/plain": [
       "Hourly Energy Cons (kWh)    float64\n",
       "Point_34                    float64\n",
       "Point_17                      int64\n",
       "Point_37                    float64\n",
       "Point_21                    float64\n",
       "Point_194                   float64\n",
       "Point_26                    float64\n",
       "Point_22                    float64\n",
       "Point_9                       int64\n",
       "Point_13                      int64\n",
       "Point_23                    float64\n",
       "Point_10                     object\n",
       "dtype: object"
      ]
     },
     "execution_count": 60,
     "metadata": {},
     "output_type": "execute_result"
    }
   ],
   "source": [
    "df_feat.dtypes"
   ]
  },
  {
   "cell_type": "code",
   "execution_count": 61,
   "metadata": {},
   "outputs": [
    {
     "data": {
      "text/plain": [
       "Hourly Energy Cons (kWh)    0\n",
       "Point_34                    0\n",
       "Point_17                    0\n",
       "Point_37                    0\n",
       "Point_21                    0\n",
       "Point_194                   0\n",
       "Point_26                    0\n",
       "Point_22                    0\n",
       "Point_9                     0\n",
       "Point_13                    0\n",
       "Point_23                    0\n",
       "Point_10                    0\n",
       "dtype: int64"
      ]
     },
     "execution_count": 61,
     "metadata": {},
     "output_type": "execute_result"
    }
   ],
   "source": [
    "df_feat.isnull().sum()"
   ]
  },
  {
   "cell_type": "code",
   "execution_count": 62,
   "metadata": {},
   "outputs": [
    {
     "data": {
      "text/html": [
       "<div>\n",
       "<style scoped>\n",
       "    .dataframe tbody tr th:only-of-type {\n",
       "        vertical-align: middle;\n",
       "    }\n",
       "\n",
       "    .dataframe tbody tr th {\n",
       "        vertical-align: top;\n",
       "    }\n",
       "\n",
       "    .dataframe thead th {\n",
       "        text-align: right;\n",
       "    }\n",
       "</style>\n",
       "<table border=\"1\" class=\"dataframe\">\n",
       "  <thead>\n",
       "    <tr style=\"text-align: right;\">\n",
       "      <th></th>\n",
       "      <th>Hourly Energy Cons (kWh)</th>\n",
       "      <th>Point_34</th>\n",
       "      <th>Point_17</th>\n",
       "      <th>Point_37</th>\n",
       "      <th>Point_21</th>\n",
       "      <th>Point_194</th>\n",
       "      <th>Point_26</th>\n",
       "      <th>Point_22</th>\n",
       "      <th>Point_9</th>\n",
       "      <th>Point_13</th>\n",
       "      <th>Point_23</th>\n",
       "    </tr>\n",
       "  </thead>\n",
       "  <tbody>\n",
       "    <tr>\n",
       "      <th>count</th>\n",
       "      <td>8759.000000</td>\n",
       "      <td>8759.000000</td>\n",
       "      <td>8759.000000</td>\n",
       "      <td>8759.000000</td>\n",
       "      <td>8759.000000</td>\n",
       "      <td>8759.000000</td>\n",
       "      <td>8759.000000</td>\n",
       "      <td>8759.000000</td>\n",
       "      <td>8759.000000</td>\n",
       "      <td>8759.000000</td>\n",
       "      <td>8759.000000</td>\n",
       "    </tr>\n",
       "    <tr>\n",
       "      <th>mean</th>\n",
       "      <td>24.682612</td>\n",
       "      <td>21.502398</td>\n",
       "      <td>1876.525973</td>\n",
       "      <td>21.093675</td>\n",
       "      <td>20.189999</td>\n",
       "      <td>19.061971</td>\n",
       "      <td>23.206325</td>\n",
       "      <td>-0.267439</td>\n",
       "      <td>446.183811</td>\n",
       "      <td>114.315447</td>\n",
       "      <td>19.323781</td>\n",
       "    </tr>\n",
       "    <tr>\n",
       "      <th>std</th>\n",
       "      <td>12.692877</td>\n",
       "      <td>5.174269</td>\n",
       "      <td>1887.459660</td>\n",
       "      <td>4.203152</td>\n",
       "      <td>4.000844</td>\n",
       "      <td>3.800795</td>\n",
       "      <td>1.905135</td>\n",
       "      <td>3.277519</td>\n",
       "      <td>45.515758</td>\n",
       "      <td>126.059888</td>\n",
       "      <td>2.385430</td>\n",
       "    </tr>\n",
       "    <tr>\n",
       "      <th>min</th>\n",
       "      <td>0.000000</td>\n",
       "      <td>10.000000</td>\n",
       "      <td>0.000000</td>\n",
       "      <td>9.900000</td>\n",
       "      <td>11.300000</td>\n",
       "      <td>13.100000</td>\n",
       "      <td>19.300000</td>\n",
       "      <td>-9.100000</td>\n",
       "      <td>396.000000</td>\n",
       "      <td>8.000000</td>\n",
       "      <td>14.900000</td>\n",
       "    </tr>\n",
       "    <tr>\n",
       "      <th>25%</th>\n",
       "      <td>15.000000</td>\n",
       "      <td>17.100000</td>\n",
       "      <td>334.000000</td>\n",
       "      <td>17.900000</td>\n",
       "      <td>17.300000</td>\n",
       "      <td>15.400000</td>\n",
       "      <td>21.700000</td>\n",
       "      <td>-2.700000</td>\n",
       "      <td>410.000000</td>\n",
       "      <td>15.000000</td>\n",
       "      <td>17.100000</td>\n",
       "    </tr>\n",
       "    <tr>\n",
       "      <th>50%</th>\n",
       "      <td>20.000000</td>\n",
       "      <td>20.700000</td>\n",
       "      <td>651.000000</td>\n",
       "      <td>20.600000</td>\n",
       "      <td>20.100000</td>\n",
       "      <td>18.900000</td>\n",
       "      <td>23.700000</td>\n",
       "      <td>-1.500000</td>\n",
       "      <td>447.000000</td>\n",
       "      <td>22.000000</td>\n",
       "      <td>20.000000</td>\n",
       "    </tr>\n",
       "    <tr>\n",
       "      <th>75%</th>\n",
       "      <td>35.000000</td>\n",
       "      <td>26.000000</td>\n",
       "      <td>3565.000000</td>\n",
       "      <td>24.000000</td>\n",
       "      <td>22.000000</td>\n",
       "      <td>21.100000</td>\n",
       "      <td>24.400000</td>\n",
       "      <td>2.600000</td>\n",
       "      <td>477.000000</td>\n",
       "      <td>210.000000</td>\n",
       "      <td>21.300000</td>\n",
       "    </tr>\n",
       "    <tr>\n",
       "      <th>max</th>\n",
       "      <td>75.000000</td>\n",
       "      <td>32.300000</td>\n",
       "      <td>7474.000000</td>\n",
       "      <td>32.200000</td>\n",
       "      <td>39.400000</td>\n",
       "      <td>33.500000</td>\n",
       "      <td>34.200000</td>\n",
       "      <td>10.100000</td>\n",
       "      <td>729.000000</td>\n",
       "      <td>478.000000</td>\n",
       "      <td>26.200000</td>\n",
       "    </tr>\n",
       "  </tbody>\n",
       "</table>\n",
       "</div>"
      ],
      "text/plain": [
       "       Hourly Energy Cons (kWh)     Point_34     Point_17     Point_37  \\\n",
       "count               8759.000000  8759.000000  8759.000000  8759.000000   \n",
       "mean                  24.682612    21.502398  1876.525973    21.093675   \n",
       "std                   12.692877     5.174269  1887.459660     4.203152   \n",
       "min                    0.000000    10.000000     0.000000     9.900000   \n",
       "25%                   15.000000    17.100000   334.000000    17.900000   \n",
       "50%                   20.000000    20.700000   651.000000    20.600000   \n",
       "75%                   35.000000    26.000000  3565.000000    24.000000   \n",
       "max                   75.000000    32.300000  7474.000000    32.200000   \n",
       "\n",
       "          Point_21    Point_194     Point_26     Point_22      Point_9  \\\n",
       "count  8759.000000  8759.000000  8759.000000  8759.000000  8759.000000   \n",
       "mean     20.189999    19.061971    23.206325    -0.267439   446.183811   \n",
       "std       4.000844     3.800795     1.905135     3.277519    45.515758   \n",
       "min      11.300000    13.100000    19.300000    -9.100000   396.000000   \n",
       "25%      17.300000    15.400000    21.700000    -2.700000   410.000000   \n",
       "50%      20.100000    18.900000    23.700000    -1.500000   447.000000   \n",
       "75%      22.000000    21.100000    24.400000     2.600000   477.000000   \n",
       "max      39.400000    33.500000    34.200000    10.100000   729.000000   \n",
       "\n",
       "          Point_13     Point_23  \n",
       "count  8759.000000  8759.000000  \n",
       "mean    114.315447    19.323781  \n",
       "std     126.059888     2.385430  \n",
       "min       8.000000    14.900000  \n",
       "25%      15.000000    17.100000  \n",
       "50%      22.000000    20.000000  \n",
       "75%     210.000000    21.300000  \n",
       "max     478.000000    26.200000  "
      ]
     },
     "execution_count": 62,
     "metadata": {},
     "output_type": "execute_result"
    }
   ],
   "source": [
    "df_feat.describe()"
   ]
  },
  {
   "cell_type": "code",
   "execution_count": 63,
   "metadata": {},
   "outputs": [
    {
     "data": {
      "text/plain": [
       "array(['OFF', 'ON'], dtype=object)"
      ]
     },
     "execution_count": 63,
     "metadata": {},
     "output_type": "execute_result"
    }
   ],
   "source": [
    "df_feat.Point_10.unique()"
   ]
  },
  {
   "cell_type": "markdown",
   "metadata": {},
   "source": [
    "# Modeling"
   ]
  },
  {
   "cell_type": "code",
   "execution_count": 64,
   "metadata": {},
   "outputs": [],
   "source": [
    "y = df_feat['Hourly Energy Cons (kWh)']\n",
    "X = df_feat.drop(['Hourly Energy Cons (kWh)'], axis=1)\n",
    "\n",
    "X_train, X_test, y_train, y_test = train_test_split(X, y, test_size=0.3, random_state=0)"
   ]
  },
  {
   "cell_type": "code",
   "execution_count": 65,
   "metadata": {},
   "outputs": [
    {
     "name": "stdout",
     "output_type": "stream",
     "text": [
      "(6131, 11)\n",
      "(2628, 11)\n"
     ]
    }
   ],
   "source": [
    "print(X_train.shape)\n",
    "print(X_test.shape)"
   ]
  },
  {
   "cell_type": "code",
   "execution_count": 66,
   "metadata": {},
   "outputs": [],
   "source": [
    "# separate categorical columns and numerical columns\n",
    "categorical_cols = [cname for cname in X_train.columns if X_train[cname].dtype == \"object\"]\n",
    "\n",
    "numerical_cols = [cname for cname in X_train.columns if X_train[cname].dtype in ['int64', 'float64']]"
   ]
  },
  {
   "cell_type": "code",
   "execution_count": 67,
   "metadata": {},
   "outputs": [],
   "source": [
    "# Preprocessing for numerical data\n",
    "numerical_transformer = Pipeline(steps=[('scaler', StandardScaler())\n",
    "                                        ])\n",
    "\n",
    "# Preprocessing for categorical data\n",
    "categorical_transformer = Pipeline(steps=[('onehot', OneHotEncoder(handle_unknown='ignore'))\n",
    "                                        ])\n",
    "    \n",
    "# Bundle preprocessing for numerical and categorical data\n",
    "preprocessor = ColumnTransformer(\n",
    "    transformers=[\n",
    "        ('num', numerical_transformer, numerical_cols),\n",
    "        ('cat', categorical_transformer, categorical_cols)\n",
    "    ])\n",
    "\n",
    "# Define model\n",
    "base_model = RandomForestRegressor()\n",
    "gb_reg = GradientBoostingRegressor(random_state=0)\n",
    "xgboost = xgb.XGBRegressor()\n",
    "lgboost = lgb.LGBMRegressor(num_leaves=31, n_estimators=100, max_depth=-1,\n",
    "                            learning_rate=0.1, random_state=3832, min_child_samples=20,\n",
    "                            min_child_weight=0.001, min_split_gain=0.0, reg_alpha=0, reg_lambda=0,\n",
    "                            subsample=1.0, colsample_bytree=1.0)"
   ]
  },
  {
   "cell_type": "code",
   "execution_count": 68,
   "metadata": {},
   "outputs": [],
   "source": [
    "# Display HTML representation in a jupyter context\n",
    "from sklearn import set_config\n",
    "set_config(display='diagram')"
   ]
  },
  {
   "cell_type": "markdown",
   "metadata": {},
   "source": [
    "## Random Forest"
   ]
  },
  {
   "cell_type": "code",
   "execution_count": 69,
   "metadata": {},
   "outputs": [
    {
     "data": {
      "text/html": [
       "<style>div.sk-top-container {color: black;background-color: white;}div.sk-toggleable {background-color: white;}label.sk-toggleable__label {cursor: pointer;display: block;width: 100%;margin-bottom: 0;padding: 0.2em 0.3em;box-sizing: border-box;text-align: center;}div.sk-toggleable__content {max-height: 0;max-width: 0;overflow: hidden;text-align: left;background-color: #f0f8ff;}div.sk-toggleable__content pre {margin: 0.2em;color: black;border-radius: 0.25em;background-color: #f0f8ff;}input.sk-toggleable__control:checked~div.sk-toggleable__content {max-height: 200px;max-width: 100%;overflow: auto;}div.sk-estimator input.sk-toggleable__control:checked~label.sk-toggleable__label {background-color: #d4ebff;}div.sk-label input.sk-toggleable__control:checked~label.sk-toggleable__label {background-color: #d4ebff;}input.sk-hidden--visually {border: 0;clip: rect(1px 1px 1px 1px);clip: rect(1px, 1px, 1px, 1px);height: 1px;margin: -1px;overflow: hidden;padding: 0;position: absolute;width: 1px;}div.sk-estimator {font-family: monospace;background-color: #f0f8ff;margin: 0.25em 0.25em;border: 1px dotted black;border-radius: 0.25em;box-sizing: border-box;}div.sk-estimator:hover {background-color: #d4ebff;}div.sk-parallel-item::after {content: \"\";width: 100%;border-bottom: 1px solid gray;flex-grow: 1;}div.sk-label:hover label.sk-toggleable__label {background-color: #d4ebff;}div.sk-serial::before {content: \"\";position: absolute;border-left: 1px solid gray;box-sizing: border-box;top: 2em;bottom: 0;left: 50%;}div.sk-serial {display: flex;flex-direction: column;align-items: center;background-color: white;}div.sk-item {z-index: 1;}div.sk-parallel {display: flex;align-items: stretch;justify-content: center;background-color: white;}div.sk-parallel-item {display: flex;flex-direction: column;position: relative;background-color: white;}div.sk-parallel-item:first-child::after {align-self: flex-end;width: 50%;}div.sk-parallel-item:last-child::after {align-self: flex-start;width: 50%;}div.sk-parallel-item:only-child::after {width: 0;}div.sk-dashed-wrapped {border: 1px dashed gray;margin: 0.2em;box-sizing: border-box;padding-bottom: 0.1em;background-color: white;position: relative;}div.sk-label label {font-family: monospace;font-weight: bold;background-color: white;display: inline-block;line-height: 1.2em;}div.sk-label-container {position: relative;z-index: 2;text-align: center;}div.sk-container {display: inline-block;position: relative;}</style><div class=\"sk-top-container\"><div class=\"sk-container\"><div class=\"sk-item sk-dashed-wrapped\"><div class=\"sk-label-container\"><div class=\"sk-label sk-toggleable\"><input class=\"sk-toggleable__control sk-hidden--visually\" id=\"17b2fb4c-8715-4275-b60c-f219d494be7a\" type=\"checkbox\" ><label class=\"sk-toggleable__label\" for=\"17b2fb4c-8715-4275-b60c-f219d494be7a\">Pipeline</label><div class=\"sk-toggleable__content\"><pre>Pipeline(steps=[('preprocessor',\n",
       "                 ColumnTransformer(transformers=[('num',\n",
       "                                                  Pipeline(steps=[('scaler',\n",
       "                                                                   StandardScaler())]),\n",
       "                                                  ['Point_34', 'Point_17',\n",
       "                                                   'Point_37', 'Point_21',\n",
       "                                                   'Point_194', 'Point_26',\n",
       "                                                   'Point_22', 'Point_9',\n",
       "                                                   'Point_13', 'Point_23']),\n",
       "                                                 ('cat',\n",
       "                                                  Pipeline(steps=[('onehot',\n",
       "                                                                   OneHotEncoder(handle_unknown='ignore'))]),\n",
       "                                                  ['Point_10'])])),\n",
       "                ('model', RandomForestRegressor())])</pre></div></div></div><div class=\"sk-serial\"><div class=\"sk-item sk-dashed-wrapped\"><div class=\"sk-label-container\"><div class=\"sk-label sk-toggleable\"><input class=\"sk-toggleable__control sk-hidden--visually\" id=\"4fcbf975-ab54-45d1-8d11-7252b2f0655f\" type=\"checkbox\" ><label class=\"sk-toggleable__label\" for=\"4fcbf975-ab54-45d1-8d11-7252b2f0655f\">preprocessor: ColumnTransformer</label><div class=\"sk-toggleable__content\"><pre>ColumnTransformer(transformers=[('num',\n",
       "                                 Pipeline(steps=[('scaler', StandardScaler())]),\n",
       "                                 ['Point_34', 'Point_17', 'Point_37',\n",
       "                                  'Point_21', 'Point_194', 'Point_26',\n",
       "                                  'Point_22', 'Point_9', 'Point_13',\n",
       "                                  'Point_23']),\n",
       "                                ('cat',\n",
       "                                 Pipeline(steps=[('onehot',\n",
       "                                                  OneHotEncoder(handle_unknown='ignore'))]),\n",
       "                                 ['Point_10'])])</pre></div></div></div><div class=\"sk-parallel\"><div class=\"sk-parallel-item\"><div class=\"sk-item\"><div class=\"sk-label-container\"><div class=\"sk-label sk-toggleable\"><input class=\"sk-toggleable__control sk-hidden--visually\" id=\"a2a9756e-cd61-4934-a054-6c80ecf2524e\" type=\"checkbox\" ><label class=\"sk-toggleable__label\" for=\"a2a9756e-cd61-4934-a054-6c80ecf2524e\">num</label><div class=\"sk-toggleable__content\"><pre>['Point_34', 'Point_17', 'Point_37', 'Point_21', 'Point_194', 'Point_26', 'Point_22', 'Point_9', 'Point_13', 'Point_23']</pre></div></div></div><div class=\"sk-serial\"><div class=\"sk-item\"><div class=\"sk-serial\"><div class=\"sk-item\"><div class=\"sk-estimator sk-toggleable\"><input class=\"sk-toggleable__control sk-hidden--visually\" id=\"21f729cc-e979-4036-934d-dbe4ec882b9a\" type=\"checkbox\" ><label class=\"sk-toggleable__label\" for=\"21f729cc-e979-4036-934d-dbe4ec882b9a\">StandardScaler</label><div class=\"sk-toggleable__content\"><pre>StandardScaler()</pre></div></div></div></div></div></div></div></div><div class=\"sk-parallel-item\"><div class=\"sk-item\"><div class=\"sk-label-container\"><div class=\"sk-label sk-toggleable\"><input class=\"sk-toggleable__control sk-hidden--visually\" id=\"b7a1c877-0357-46eb-b75f-2265d5922fad\" type=\"checkbox\" ><label class=\"sk-toggleable__label\" for=\"b7a1c877-0357-46eb-b75f-2265d5922fad\">cat</label><div class=\"sk-toggleable__content\"><pre>['Point_10']</pre></div></div></div><div class=\"sk-serial\"><div class=\"sk-item\"><div class=\"sk-serial\"><div class=\"sk-item\"><div class=\"sk-estimator sk-toggleable\"><input class=\"sk-toggleable__control sk-hidden--visually\" id=\"042405a3-5765-43ac-ae1b-ea94d85c2015\" type=\"checkbox\" ><label class=\"sk-toggleable__label\" for=\"042405a3-5765-43ac-ae1b-ea94d85c2015\">OneHotEncoder</label><div class=\"sk-toggleable__content\"><pre>OneHotEncoder(handle_unknown='ignore')</pre></div></div></div></div></div></div></div></div></div></div><div class=\"sk-item\"><div class=\"sk-estimator sk-toggleable\"><input class=\"sk-toggleable__control sk-hidden--visually\" id=\"a2a7248e-7a7f-4e8d-968b-3e026cb2f5e7\" type=\"checkbox\" ><label class=\"sk-toggleable__label\" for=\"a2a7248e-7a7f-4e8d-968b-3e026cb2f5e7\">RandomForestRegressor</label><div class=\"sk-toggleable__content\"><pre>RandomForestRegressor()</pre></div></div></div></div></div></div></div>"
      ],
      "text/plain": [
       "Pipeline(steps=[('preprocessor',\n",
       "                 ColumnTransformer(transformers=[('num',\n",
       "                                                  Pipeline(steps=[('scaler',\n",
       "                                                                   StandardScaler())]),\n",
       "                                                  ['Point_34', 'Point_17',\n",
       "                                                   'Point_37', 'Point_21',\n",
       "                                                   'Point_194', 'Point_26',\n",
       "                                                   'Point_22', 'Point_9',\n",
       "                                                   'Point_13', 'Point_23']),\n",
       "                                                 ('cat',\n",
       "                                                  Pipeline(steps=[('onehot',\n",
       "                                                                   OneHotEncoder(handle_unknown='ignore'))]),\n",
       "                                                  ['Point_10'])])),\n",
       "                ('model', RandomForestRegressor())])"
      ]
     },
     "execution_count": 69,
     "metadata": {},
     "output_type": "execute_result"
    }
   ],
   "source": [
    "pipeline = Pipeline(steps=[('preprocessor', preprocessor),\n",
    "                           ('model', base_model)])\n",
    "\n",
    "pipeline.fit(X_train, y_train)"
   ]
  },
  {
   "cell_type": "code",
   "execution_count": 70,
   "metadata": {},
   "outputs": [],
   "source": [
    "base_preds = pipeline.predict(X_test)"
   ]
  },
  {
   "cell_type": "code",
   "execution_count": 71,
   "metadata": {},
   "outputs": [
    {
     "name": "stdout",
     "output_type": "stream",
     "text": [
      "0.8792000343829871\n",
      "0.8792000343829871\n",
      "3.1650859179189657\n"
     ]
    }
   ],
   "source": [
    "print(pipeline.score(X_test,y_test))\n",
    "print(r2_score(y_test, base_preds))\n",
    "print(mean_absolute_error(y_test, base_preds))"
   ]
  },
  {
   "cell_type": "code",
   "execution_count": 72,
   "metadata": {},
   "outputs": [
    {
     "data": {
      "text/html": [
       "<div>\n",
       "<style scoped>\n",
       "    .dataframe tbody tr th:only-of-type {\n",
       "        vertical-align: middle;\n",
       "    }\n",
       "\n",
       "    .dataframe tbody tr th {\n",
       "        vertical-align: top;\n",
       "    }\n",
       "\n",
       "    .dataframe thead th {\n",
       "        text-align: right;\n",
       "    }\n",
       "</style>\n",
       "<table border=\"1\" class=\"dataframe\">\n",
       "  <thead>\n",
       "    <tr style=\"text-align: right;\">\n",
       "      <th></th>\n",
       "      <th>Actual</th>\n",
       "      <th>Predicted</th>\n",
       "    </tr>\n",
       "  </thead>\n",
       "  <tbody>\n",
       "    <tr>\n",
       "      <th>5485</th>\n",
       "      <td>40.0</td>\n",
       "      <td>44.000000</td>\n",
       "    </tr>\n",
       "    <tr>\n",
       "      <th>1940</th>\n",
       "      <td>25.0</td>\n",
       "      <td>21.050000</td>\n",
       "    </tr>\n",
       "    <tr>\n",
       "      <th>4033</th>\n",
       "      <td>15.0</td>\n",
       "      <td>17.420476</td>\n",
       "    </tr>\n",
       "    <tr>\n",
       "      <th>1294</th>\n",
       "      <td>15.0</td>\n",
       "      <td>16.650000</td>\n",
       "    </tr>\n",
       "    <tr>\n",
       "      <th>2797</th>\n",
       "      <td>35.0</td>\n",
       "      <td>35.200000</td>\n",
       "    </tr>\n",
       "    <tr>\n",
       "      <th>...</th>\n",
       "      <td>...</td>\n",
       "      <td>...</td>\n",
       "    </tr>\n",
       "    <tr>\n",
       "      <th>5932</th>\n",
       "      <td>15.0</td>\n",
       "      <td>15.025000</td>\n",
       "    </tr>\n",
       "    <tr>\n",
       "      <th>2860</th>\n",
       "      <td>15.0</td>\n",
       "      <td>15.075000</td>\n",
       "    </tr>\n",
       "    <tr>\n",
       "      <th>4397</th>\n",
       "      <td>25.0</td>\n",
       "      <td>24.150000</td>\n",
       "    </tr>\n",
       "    <tr>\n",
       "      <th>7849</th>\n",
       "      <td>10.0</td>\n",
       "      <td>14.733333</td>\n",
       "    </tr>\n",
       "    <tr>\n",
       "      <th>3010</th>\n",
       "      <td>10.0</td>\n",
       "      <td>12.403313</td>\n",
       "    </tr>\n",
       "  </tbody>\n",
       "</table>\n",
       "<p>2628 rows × 2 columns</p>\n",
       "</div>"
      ],
      "text/plain": [
       "      Actual  Predicted\n",
       "5485    40.0  44.000000\n",
       "1940    25.0  21.050000\n",
       "4033    15.0  17.420476\n",
       "1294    15.0  16.650000\n",
       "2797    35.0  35.200000\n",
       "...      ...        ...\n",
       "5932    15.0  15.025000\n",
       "2860    15.0  15.075000\n",
       "4397    25.0  24.150000\n",
       "7849    10.0  14.733333\n",
       "3010    10.0  12.403313\n",
       "\n",
       "[2628 rows x 2 columns]"
      ]
     },
     "execution_count": 72,
     "metadata": {},
     "output_type": "execute_result"
    }
   ],
   "source": [
    "df_scores_comp = pd.DataFrame({'Actual':y_test, 'Predicted':base_preds})\n",
    "df_scores_comp"
   ]
  },
  {
   "cell_type": "code",
   "execution_count": 73,
   "metadata": {},
   "outputs": [],
   "source": [
    "importances = pipeline.steps[1][1].feature_importances_"
   ]
  },
  {
   "cell_type": "code",
   "execution_count": 74,
   "metadata": {},
   "outputs": [
    {
     "data": {
      "text/plain": [
       "array([0.05433243, 0.64544846, 0.02447087, 0.02283831, 0.05575828,\n",
       "       0.02638714, 0.01945772, 0.03032405, 0.01704436, 0.01807205,\n",
       "       0.04768459, 0.03818174])"
      ]
     },
     "execution_count": 74,
     "metadata": {},
     "output_type": "execute_result"
    }
   ],
   "source": [
    "importances"
   ]
  },
  {
   "cell_type": "code",
   "execution_count": 75,
   "metadata": {},
   "outputs": [
    {
     "data": {
      "text/plain": [
       "'Point_17'"
      ]
     },
     "execution_count": 75,
     "metadata": {},
     "output_type": "execute_result"
    }
   ],
   "source": [
    "# most important feature\n",
    "X_train.columns[1]"
   ]
  },
  {
   "cell_type": "markdown",
   "metadata": {},
   "source": [
    "## Gradient Boost"
   ]
  },
  {
   "cell_type": "code",
   "execution_count": 76,
   "metadata": {},
   "outputs": [
    {
     "data": {
      "text/html": [
       "<style>div.sk-top-container {color: black;background-color: white;}div.sk-toggleable {background-color: white;}label.sk-toggleable__label {cursor: pointer;display: block;width: 100%;margin-bottom: 0;padding: 0.2em 0.3em;box-sizing: border-box;text-align: center;}div.sk-toggleable__content {max-height: 0;max-width: 0;overflow: hidden;text-align: left;background-color: #f0f8ff;}div.sk-toggleable__content pre {margin: 0.2em;color: black;border-radius: 0.25em;background-color: #f0f8ff;}input.sk-toggleable__control:checked~div.sk-toggleable__content {max-height: 200px;max-width: 100%;overflow: auto;}div.sk-estimator input.sk-toggleable__control:checked~label.sk-toggleable__label {background-color: #d4ebff;}div.sk-label input.sk-toggleable__control:checked~label.sk-toggleable__label {background-color: #d4ebff;}input.sk-hidden--visually {border: 0;clip: rect(1px 1px 1px 1px);clip: rect(1px, 1px, 1px, 1px);height: 1px;margin: -1px;overflow: hidden;padding: 0;position: absolute;width: 1px;}div.sk-estimator {font-family: monospace;background-color: #f0f8ff;margin: 0.25em 0.25em;border: 1px dotted black;border-radius: 0.25em;box-sizing: border-box;}div.sk-estimator:hover {background-color: #d4ebff;}div.sk-parallel-item::after {content: \"\";width: 100%;border-bottom: 1px solid gray;flex-grow: 1;}div.sk-label:hover label.sk-toggleable__label {background-color: #d4ebff;}div.sk-serial::before {content: \"\";position: absolute;border-left: 1px solid gray;box-sizing: border-box;top: 2em;bottom: 0;left: 50%;}div.sk-serial {display: flex;flex-direction: column;align-items: center;background-color: white;}div.sk-item {z-index: 1;}div.sk-parallel {display: flex;align-items: stretch;justify-content: center;background-color: white;}div.sk-parallel-item {display: flex;flex-direction: column;position: relative;background-color: white;}div.sk-parallel-item:first-child::after {align-self: flex-end;width: 50%;}div.sk-parallel-item:last-child::after {align-self: flex-start;width: 50%;}div.sk-parallel-item:only-child::after {width: 0;}div.sk-dashed-wrapped {border: 1px dashed gray;margin: 0.2em;box-sizing: border-box;padding-bottom: 0.1em;background-color: white;position: relative;}div.sk-label label {font-family: monospace;font-weight: bold;background-color: white;display: inline-block;line-height: 1.2em;}div.sk-label-container {position: relative;z-index: 2;text-align: center;}div.sk-container {display: inline-block;position: relative;}</style><div class=\"sk-top-container\"><div class=\"sk-container\"><div class=\"sk-item sk-dashed-wrapped\"><div class=\"sk-label-container\"><div class=\"sk-label sk-toggleable\"><input class=\"sk-toggleable__control sk-hidden--visually\" id=\"a302ded5-e5d4-4c75-ad49-c242e637a6f4\" type=\"checkbox\" ><label class=\"sk-toggleable__label\" for=\"a302ded5-e5d4-4c75-ad49-c242e637a6f4\">Pipeline</label><div class=\"sk-toggleable__content\"><pre>Pipeline(steps=[('preprocessor',\n",
       "                 ColumnTransformer(transformers=[('num',\n",
       "                                                  Pipeline(steps=[('scaler',\n",
       "                                                                   StandardScaler())]),\n",
       "                                                  ['Point_34', 'Point_17',\n",
       "                                                   'Point_37', 'Point_21',\n",
       "                                                   'Point_194', 'Point_26',\n",
       "                                                   'Point_22', 'Point_9',\n",
       "                                                   'Point_13', 'Point_23']),\n",
       "                                                 ('cat',\n",
       "                                                  Pipeline(steps=[('onehot',\n",
       "                                                                   OneHotEncoder(handle_unknown='ignore'))]),\n",
       "                                                  ['Point_10'])])),\n",
       "                ('model', GradientBoostingRegressor(random_state=0))])</pre></div></div></div><div class=\"sk-serial\"><div class=\"sk-item sk-dashed-wrapped\"><div class=\"sk-label-container\"><div class=\"sk-label sk-toggleable\"><input class=\"sk-toggleable__control sk-hidden--visually\" id=\"328f3450-45b6-4715-b12e-1138117fe99d\" type=\"checkbox\" ><label class=\"sk-toggleable__label\" for=\"328f3450-45b6-4715-b12e-1138117fe99d\">preprocessor: ColumnTransformer</label><div class=\"sk-toggleable__content\"><pre>ColumnTransformer(transformers=[('num',\n",
       "                                 Pipeline(steps=[('scaler', StandardScaler())]),\n",
       "                                 ['Point_34', 'Point_17', 'Point_37',\n",
       "                                  'Point_21', 'Point_194', 'Point_26',\n",
       "                                  'Point_22', 'Point_9', 'Point_13',\n",
       "                                  'Point_23']),\n",
       "                                ('cat',\n",
       "                                 Pipeline(steps=[('onehot',\n",
       "                                                  OneHotEncoder(handle_unknown='ignore'))]),\n",
       "                                 ['Point_10'])])</pre></div></div></div><div class=\"sk-parallel\"><div class=\"sk-parallel-item\"><div class=\"sk-item\"><div class=\"sk-label-container\"><div class=\"sk-label sk-toggleable\"><input class=\"sk-toggleable__control sk-hidden--visually\" id=\"9fc08816-0688-40bd-81ad-989a4bab22ac\" type=\"checkbox\" ><label class=\"sk-toggleable__label\" for=\"9fc08816-0688-40bd-81ad-989a4bab22ac\">num</label><div class=\"sk-toggleable__content\"><pre>['Point_34', 'Point_17', 'Point_37', 'Point_21', 'Point_194', 'Point_26', 'Point_22', 'Point_9', 'Point_13', 'Point_23']</pre></div></div></div><div class=\"sk-serial\"><div class=\"sk-item\"><div class=\"sk-serial\"><div class=\"sk-item\"><div class=\"sk-estimator sk-toggleable\"><input class=\"sk-toggleable__control sk-hidden--visually\" id=\"3b9a66b3-a7cb-420e-b221-60777fcb0231\" type=\"checkbox\" ><label class=\"sk-toggleable__label\" for=\"3b9a66b3-a7cb-420e-b221-60777fcb0231\">StandardScaler</label><div class=\"sk-toggleable__content\"><pre>StandardScaler()</pre></div></div></div></div></div></div></div></div><div class=\"sk-parallel-item\"><div class=\"sk-item\"><div class=\"sk-label-container\"><div class=\"sk-label sk-toggleable\"><input class=\"sk-toggleable__control sk-hidden--visually\" id=\"379c4b67-66ee-42bc-9a0b-b11688d9875b\" type=\"checkbox\" ><label class=\"sk-toggleable__label\" for=\"379c4b67-66ee-42bc-9a0b-b11688d9875b\">cat</label><div class=\"sk-toggleable__content\"><pre>['Point_10']</pre></div></div></div><div class=\"sk-serial\"><div class=\"sk-item\"><div class=\"sk-serial\"><div class=\"sk-item\"><div class=\"sk-estimator sk-toggleable\"><input class=\"sk-toggleable__control sk-hidden--visually\" id=\"a2eda220-56c6-4715-9921-b35b634bd576\" type=\"checkbox\" ><label class=\"sk-toggleable__label\" for=\"a2eda220-56c6-4715-9921-b35b634bd576\">OneHotEncoder</label><div class=\"sk-toggleable__content\"><pre>OneHotEncoder(handle_unknown='ignore')</pre></div></div></div></div></div></div></div></div></div></div><div class=\"sk-item\"><div class=\"sk-estimator sk-toggleable\"><input class=\"sk-toggleable__control sk-hidden--visually\" id=\"38cbef42-165e-4926-8f3a-26076b17072d\" type=\"checkbox\" ><label class=\"sk-toggleable__label\" for=\"38cbef42-165e-4926-8f3a-26076b17072d\">GradientBoostingRegressor</label><div class=\"sk-toggleable__content\"><pre>GradientBoostingRegressor(random_state=0)</pre></div></div></div></div></div></div></div>"
      ],
      "text/plain": [
       "Pipeline(steps=[('preprocessor',\n",
       "                 ColumnTransformer(transformers=[('num',\n",
       "                                                  Pipeline(steps=[('scaler',\n",
       "                                                                   StandardScaler())]),\n",
       "                                                  ['Point_34', 'Point_17',\n",
       "                                                   'Point_37', 'Point_21',\n",
       "                                                   'Point_194', 'Point_26',\n",
       "                                                   'Point_22', 'Point_9',\n",
       "                                                   'Point_13', 'Point_23']),\n",
       "                                                 ('cat',\n",
       "                                                  Pipeline(steps=[('onehot',\n",
       "                                                                   OneHotEncoder(handle_unknown='ignore'))]),\n",
       "                                                  ['Point_10'])])),\n",
       "                ('model', GradientBoostingRegressor(random_state=0))])"
      ]
     },
     "execution_count": 76,
     "metadata": {},
     "output_type": "execute_result"
    }
   ],
   "source": [
    "gb_pipeline = Pipeline(steps=[('preprocessor', preprocessor),\n",
    "                              ('model', gb_reg)])\n",
    "\n",
    "gb_pipeline.fit(X_train, y_train)"
   ]
  },
  {
   "cell_type": "code",
   "execution_count": 77,
   "metadata": {},
   "outputs": [],
   "source": [
    "gb_preds = gb_pipeline.predict(X_test)"
   ]
  },
  {
   "cell_type": "code",
   "execution_count": 78,
   "metadata": {},
   "outputs": [
    {
     "name": "stdout",
     "output_type": "stream",
     "text": [
      "0.8578936923738337\n",
      "0.8578936923738337\n",
      "3.446681262695651\n"
     ]
    }
   ],
   "source": [
    "print(gb_pipeline.score(X_test,y_test))\n",
    "print(r2_score(y_test, gb_preds))\n",
    "print(mean_absolute_error(y_test, gb_preds))"
   ]
  },
  {
   "cell_type": "markdown",
   "metadata": {},
   "source": [
    "## XG Boost"
   ]
  },
  {
   "cell_type": "code",
   "execution_count": 79,
   "metadata": {},
   "outputs": [
    {
     "data": {
      "text/html": [
       "<style>div.sk-top-container {color: black;background-color: white;}div.sk-toggleable {background-color: white;}label.sk-toggleable__label {cursor: pointer;display: block;width: 100%;margin-bottom: 0;padding: 0.2em 0.3em;box-sizing: border-box;text-align: center;}div.sk-toggleable__content {max-height: 0;max-width: 0;overflow: hidden;text-align: left;background-color: #f0f8ff;}div.sk-toggleable__content pre {margin: 0.2em;color: black;border-radius: 0.25em;background-color: #f0f8ff;}input.sk-toggleable__control:checked~div.sk-toggleable__content {max-height: 200px;max-width: 100%;overflow: auto;}div.sk-estimator input.sk-toggleable__control:checked~label.sk-toggleable__label {background-color: #d4ebff;}div.sk-label input.sk-toggleable__control:checked~label.sk-toggleable__label {background-color: #d4ebff;}input.sk-hidden--visually {border: 0;clip: rect(1px 1px 1px 1px);clip: rect(1px, 1px, 1px, 1px);height: 1px;margin: -1px;overflow: hidden;padding: 0;position: absolute;width: 1px;}div.sk-estimator {font-family: monospace;background-color: #f0f8ff;margin: 0.25em 0.25em;border: 1px dotted black;border-radius: 0.25em;box-sizing: border-box;}div.sk-estimator:hover {background-color: #d4ebff;}div.sk-parallel-item::after {content: \"\";width: 100%;border-bottom: 1px solid gray;flex-grow: 1;}div.sk-label:hover label.sk-toggleable__label {background-color: #d4ebff;}div.sk-serial::before {content: \"\";position: absolute;border-left: 1px solid gray;box-sizing: border-box;top: 2em;bottom: 0;left: 50%;}div.sk-serial {display: flex;flex-direction: column;align-items: center;background-color: white;}div.sk-item {z-index: 1;}div.sk-parallel {display: flex;align-items: stretch;justify-content: center;background-color: white;}div.sk-parallel-item {display: flex;flex-direction: column;position: relative;background-color: white;}div.sk-parallel-item:first-child::after {align-self: flex-end;width: 50%;}div.sk-parallel-item:last-child::after {align-self: flex-start;width: 50%;}div.sk-parallel-item:only-child::after {width: 0;}div.sk-dashed-wrapped {border: 1px dashed gray;margin: 0.2em;box-sizing: border-box;padding-bottom: 0.1em;background-color: white;position: relative;}div.sk-label label {font-family: monospace;font-weight: bold;background-color: white;display: inline-block;line-height: 1.2em;}div.sk-label-container {position: relative;z-index: 2;text-align: center;}div.sk-container {display: inline-block;position: relative;}</style><div class=\"sk-top-container\"><div class=\"sk-container\"><div class=\"sk-item sk-dashed-wrapped\"><div class=\"sk-label-container\"><div class=\"sk-label sk-toggleable\"><input class=\"sk-toggleable__control sk-hidden--visually\" id=\"7511ce3a-1de7-41d1-8b34-d0413888c6e8\" type=\"checkbox\" ><label class=\"sk-toggleable__label\" for=\"7511ce3a-1de7-41d1-8b34-d0413888c6e8\">Pipeline</label><div class=\"sk-toggleable__content\"><pre>Pipeline(steps=[('preprocessor',\n",
       "                 ColumnTransformer(transformers=[('num',\n",
       "                                                  Pipeline(steps=[('scaler',\n",
       "                                                                   StandardScaler())]),\n",
       "                                                  ['Point_34', 'Point_17',\n",
       "                                                   'Point_37', 'Point_21',\n",
       "                                                   'Point_194', 'Point_26',\n",
       "                                                   'Point_22', 'Point_9',\n",
       "                                                   'Point_13', 'Point_23']),\n",
       "                                                 ('cat',\n",
       "                                                  Pipeline(steps=[('onehot',\n",
       "                                                                   OneHotEncoder(handle_unknown='ignore'))]),\n",
       "                                                  ['Point_10'])])),\n",
       "                ('model',\n",
       "                 XGBRegressor(base_s...\n",
       "                              colsample_bytree=1, gamma=0, gpu_id=-1,\n",
       "                              importance_type='gain',\n",
       "                              interaction_constraints='',\n",
       "                              learning_rate=0.300000012, max_delta_step=0,\n",
       "                              max_depth=6, min_child_weight=1, missing=nan,\n",
       "                              monotone_constraints='()', n_estimators=100,\n",
       "                              n_jobs=12, num_parallel_tree=1, random_state=0,\n",
       "                              reg_alpha=0, reg_lambda=1, scale_pos_weight=1,\n",
       "                              subsample=1, tree_method='exact',\n",
       "                              validate_parameters=1, verbosity=None))])</pre></div></div></div><div class=\"sk-serial\"><div class=\"sk-item sk-dashed-wrapped\"><div class=\"sk-label-container\"><div class=\"sk-label sk-toggleable\"><input class=\"sk-toggleable__control sk-hidden--visually\" id=\"f46440d3-d985-4d9c-95af-0cb83766356a\" type=\"checkbox\" ><label class=\"sk-toggleable__label\" for=\"f46440d3-d985-4d9c-95af-0cb83766356a\">preprocessor: ColumnTransformer</label><div class=\"sk-toggleable__content\"><pre>ColumnTransformer(transformers=[('num',\n",
       "                                 Pipeline(steps=[('scaler', StandardScaler())]),\n",
       "                                 ['Point_34', 'Point_17', 'Point_37',\n",
       "                                  'Point_21', 'Point_194', 'Point_26',\n",
       "                                  'Point_22', 'Point_9', 'Point_13',\n",
       "                                  'Point_23']),\n",
       "                                ('cat',\n",
       "                                 Pipeline(steps=[('onehot',\n",
       "                                                  OneHotEncoder(handle_unknown='ignore'))]),\n",
       "                                 ['Point_10'])])</pre></div></div></div><div class=\"sk-parallel\"><div class=\"sk-parallel-item\"><div class=\"sk-item\"><div class=\"sk-label-container\"><div class=\"sk-label sk-toggleable\"><input class=\"sk-toggleable__control sk-hidden--visually\" id=\"87a7ff34-e3cf-4398-a9a8-773fe47d14b6\" type=\"checkbox\" ><label class=\"sk-toggleable__label\" for=\"87a7ff34-e3cf-4398-a9a8-773fe47d14b6\">num</label><div class=\"sk-toggleable__content\"><pre>['Point_34', 'Point_17', 'Point_37', 'Point_21', 'Point_194', 'Point_26', 'Point_22', 'Point_9', 'Point_13', 'Point_23']</pre></div></div></div><div class=\"sk-serial\"><div class=\"sk-item\"><div class=\"sk-serial\"><div class=\"sk-item\"><div class=\"sk-estimator sk-toggleable\"><input class=\"sk-toggleable__control sk-hidden--visually\" id=\"50d5abd3-c39c-4580-9cb6-7152e475a5d4\" type=\"checkbox\" ><label class=\"sk-toggleable__label\" for=\"50d5abd3-c39c-4580-9cb6-7152e475a5d4\">StandardScaler</label><div class=\"sk-toggleable__content\"><pre>StandardScaler()</pre></div></div></div></div></div></div></div></div><div class=\"sk-parallel-item\"><div class=\"sk-item\"><div class=\"sk-label-container\"><div class=\"sk-label sk-toggleable\"><input class=\"sk-toggleable__control sk-hidden--visually\" id=\"2eca1d04-6143-4297-8948-b8c955e9b0a0\" type=\"checkbox\" ><label class=\"sk-toggleable__label\" for=\"2eca1d04-6143-4297-8948-b8c955e9b0a0\">cat</label><div class=\"sk-toggleable__content\"><pre>['Point_10']</pre></div></div></div><div class=\"sk-serial\"><div class=\"sk-item\"><div class=\"sk-serial\"><div class=\"sk-item\"><div class=\"sk-estimator sk-toggleable\"><input class=\"sk-toggleable__control sk-hidden--visually\" id=\"30fc30fd-a71e-48cf-a97b-6a14b3c6e901\" type=\"checkbox\" ><label class=\"sk-toggleable__label\" for=\"30fc30fd-a71e-48cf-a97b-6a14b3c6e901\">OneHotEncoder</label><div class=\"sk-toggleable__content\"><pre>OneHotEncoder(handle_unknown='ignore')</pre></div></div></div></div></div></div></div></div></div></div><div class=\"sk-item\"><div class=\"sk-estimator sk-toggleable\"><input class=\"sk-toggleable__control sk-hidden--visually\" id=\"e0de0aa3-0c69-456e-99aa-605614078a59\" type=\"checkbox\" ><label class=\"sk-toggleable__label\" for=\"e0de0aa3-0c69-456e-99aa-605614078a59\">XGBRegressor</label><div class=\"sk-toggleable__content\"><pre>XGBRegressor(base_score=0.5, booster='gbtree', colsample_bylevel=1,\n",
       "             colsample_bynode=1, colsample_bytree=1, gamma=0, gpu_id=-1,\n",
       "             importance_type='gain', interaction_constraints='',\n",
       "             learning_rate=0.300000012, max_delta_step=0, max_depth=6,\n",
       "             min_child_weight=1, missing=nan, monotone_constraints='()',\n",
       "             n_estimators=100, n_jobs=12, num_parallel_tree=1, random_state=0,\n",
       "             reg_alpha=0, reg_lambda=1, scale_pos_weight=1, subsample=1,\n",
       "             tree_method='exact', validate_parameters=1, verbosity=None)</pre></div></div></div></div></div></div></div>"
      ],
      "text/plain": [
       "Pipeline(steps=[('preprocessor',\n",
       "                 ColumnTransformer(transformers=[('num',\n",
       "                                                  Pipeline(steps=[('scaler',\n",
       "                                                                   StandardScaler())]),\n",
       "                                                  ['Point_34', 'Point_17',\n",
       "                                                   'Point_37', 'Point_21',\n",
       "                                                   'Point_194', 'Point_26',\n",
       "                                                   'Point_22', 'Point_9',\n",
       "                                                   'Point_13', 'Point_23']),\n",
       "                                                 ('cat',\n",
       "                                                  Pipeline(steps=[('onehot',\n",
       "                                                                   OneHotEncoder(handle_unknown='ignore'))]),\n",
       "                                                  ['Point_10'])])),\n",
       "                ('model',\n",
       "                 XGBRegressor(base_s...\n",
       "                              colsample_bytree=1, gamma=0, gpu_id=-1,\n",
       "                              importance_type='gain',\n",
       "                              interaction_constraints='',\n",
       "                              learning_rate=0.300000012, max_delta_step=0,\n",
       "                              max_depth=6, min_child_weight=1, missing=nan,\n",
       "                              monotone_constraints='()', n_estimators=100,\n",
       "                              n_jobs=12, num_parallel_tree=1, random_state=0,\n",
       "                              reg_alpha=0, reg_lambda=1, scale_pos_weight=1,\n",
       "                              subsample=1, tree_method='exact',\n",
       "                              validate_parameters=1, verbosity=None))])"
      ]
     },
     "execution_count": 79,
     "metadata": {},
     "output_type": "execute_result"
    }
   ],
   "source": [
    "xgb_pipeline = Pipeline(steps=[('preprocessor', preprocessor),\n",
    "                              ('model', xgboost)])\n",
    "\n",
    "xgb_pipeline.fit(X_train, y_train)"
   ]
  },
  {
   "cell_type": "code",
   "execution_count": 80,
   "metadata": {},
   "outputs": [],
   "source": [
    "xgb_preds = xgb_pipeline.predict(X_test)"
   ]
  },
  {
   "cell_type": "code",
   "execution_count": 81,
   "metadata": {},
   "outputs": [
    {
     "name": "stdout",
     "output_type": "stream",
     "text": [
      "0.8764677172071248\n",
      "0.8764677172071248\n",
      "3.2584782357992466\n"
     ]
    }
   ],
   "source": [
    "print(xgb_pipeline.score(X_test,y_test))\n",
    "print(r2_score(y_test, xgb_preds))\n",
    "print(mean_absolute_error(y_test, xgb_preds))"
   ]
  },
  {
   "cell_type": "markdown",
   "metadata": {},
   "source": [
    "## Light GBM"
   ]
  },
  {
   "cell_type": "code",
   "execution_count": 82,
   "metadata": {},
   "outputs": [
    {
     "data": {
      "text/html": [
       "<style>div.sk-top-container {color: black;background-color: white;}div.sk-toggleable {background-color: white;}label.sk-toggleable__label {cursor: pointer;display: block;width: 100%;margin-bottom: 0;padding: 0.2em 0.3em;box-sizing: border-box;text-align: center;}div.sk-toggleable__content {max-height: 0;max-width: 0;overflow: hidden;text-align: left;background-color: #f0f8ff;}div.sk-toggleable__content pre {margin: 0.2em;color: black;border-radius: 0.25em;background-color: #f0f8ff;}input.sk-toggleable__control:checked~div.sk-toggleable__content {max-height: 200px;max-width: 100%;overflow: auto;}div.sk-estimator input.sk-toggleable__control:checked~label.sk-toggleable__label {background-color: #d4ebff;}div.sk-label input.sk-toggleable__control:checked~label.sk-toggleable__label {background-color: #d4ebff;}input.sk-hidden--visually {border: 0;clip: rect(1px 1px 1px 1px);clip: rect(1px, 1px, 1px, 1px);height: 1px;margin: -1px;overflow: hidden;padding: 0;position: absolute;width: 1px;}div.sk-estimator {font-family: monospace;background-color: #f0f8ff;margin: 0.25em 0.25em;border: 1px dotted black;border-radius: 0.25em;box-sizing: border-box;}div.sk-estimator:hover {background-color: #d4ebff;}div.sk-parallel-item::after {content: \"\";width: 100%;border-bottom: 1px solid gray;flex-grow: 1;}div.sk-label:hover label.sk-toggleable__label {background-color: #d4ebff;}div.sk-serial::before {content: \"\";position: absolute;border-left: 1px solid gray;box-sizing: border-box;top: 2em;bottom: 0;left: 50%;}div.sk-serial {display: flex;flex-direction: column;align-items: center;background-color: white;}div.sk-item {z-index: 1;}div.sk-parallel {display: flex;align-items: stretch;justify-content: center;background-color: white;}div.sk-parallel-item {display: flex;flex-direction: column;position: relative;background-color: white;}div.sk-parallel-item:first-child::after {align-self: flex-end;width: 50%;}div.sk-parallel-item:last-child::after {align-self: flex-start;width: 50%;}div.sk-parallel-item:only-child::after {width: 0;}div.sk-dashed-wrapped {border: 1px dashed gray;margin: 0.2em;box-sizing: border-box;padding-bottom: 0.1em;background-color: white;position: relative;}div.sk-label label {font-family: monospace;font-weight: bold;background-color: white;display: inline-block;line-height: 1.2em;}div.sk-label-container {position: relative;z-index: 2;text-align: center;}div.sk-container {display: inline-block;position: relative;}</style><div class=\"sk-top-container\"><div class=\"sk-container\"><div class=\"sk-item sk-dashed-wrapped\"><div class=\"sk-label-container\"><div class=\"sk-label sk-toggleable\"><input class=\"sk-toggleable__control sk-hidden--visually\" id=\"cb1751ed-a87f-49a0-b0e2-5757ed15443c\" type=\"checkbox\" ><label class=\"sk-toggleable__label\" for=\"cb1751ed-a87f-49a0-b0e2-5757ed15443c\">Pipeline</label><div class=\"sk-toggleable__content\"><pre>Pipeline(steps=[('preprocessor',\n",
       "                 ColumnTransformer(transformers=[('num',\n",
       "                                                  Pipeline(steps=[('scaler',\n",
       "                                                                   StandardScaler())]),\n",
       "                                                  ['Point_34', 'Point_17',\n",
       "                                                   'Point_37', 'Point_21',\n",
       "                                                   'Point_194', 'Point_26',\n",
       "                                                   'Point_22', 'Point_9',\n",
       "                                                   'Point_13', 'Point_23']),\n",
       "                                                 ('cat',\n",
       "                                                  Pipeline(steps=[('onehot',\n",
       "                                                                   OneHotEncoder(handle_unknown='ignore'))]),\n",
       "                                                  ['Point_10'])])),\n",
       "                ('model',\n",
       "                 LGBMRegressor(random_state=3832, reg_alpha=0, reg_lambda=0))])</pre></div></div></div><div class=\"sk-serial\"><div class=\"sk-item sk-dashed-wrapped\"><div class=\"sk-label-container\"><div class=\"sk-label sk-toggleable\"><input class=\"sk-toggleable__control sk-hidden--visually\" id=\"22376911-9934-4e67-8324-0e358803c12b\" type=\"checkbox\" ><label class=\"sk-toggleable__label\" for=\"22376911-9934-4e67-8324-0e358803c12b\">preprocessor: ColumnTransformer</label><div class=\"sk-toggleable__content\"><pre>ColumnTransformer(transformers=[('num',\n",
       "                                 Pipeline(steps=[('scaler', StandardScaler())]),\n",
       "                                 ['Point_34', 'Point_17', 'Point_37',\n",
       "                                  'Point_21', 'Point_194', 'Point_26',\n",
       "                                  'Point_22', 'Point_9', 'Point_13',\n",
       "                                  'Point_23']),\n",
       "                                ('cat',\n",
       "                                 Pipeline(steps=[('onehot',\n",
       "                                                  OneHotEncoder(handle_unknown='ignore'))]),\n",
       "                                 ['Point_10'])])</pre></div></div></div><div class=\"sk-parallel\"><div class=\"sk-parallel-item\"><div class=\"sk-item\"><div class=\"sk-label-container\"><div class=\"sk-label sk-toggleable\"><input class=\"sk-toggleable__control sk-hidden--visually\" id=\"4e9135f8-46c9-4de5-a7d5-208d6c0c4eb9\" type=\"checkbox\" ><label class=\"sk-toggleable__label\" for=\"4e9135f8-46c9-4de5-a7d5-208d6c0c4eb9\">num</label><div class=\"sk-toggleable__content\"><pre>['Point_34', 'Point_17', 'Point_37', 'Point_21', 'Point_194', 'Point_26', 'Point_22', 'Point_9', 'Point_13', 'Point_23']</pre></div></div></div><div class=\"sk-serial\"><div class=\"sk-item\"><div class=\"sk-serial\"><div class=\"sk-item\"><div class=\"sk-estimator sk-toggleable\"><input class=\"sk-toggleable__control sk-hidden--visually\" id=\"ef2c51ff-e6c7-40a9-b7e7-4c56b470f8eb\" type=\"checkbox\" ><label class=\"sk-toggleable__label\" for=\"ef2c51ff-e6c7-40a9-b7e7-4c56b470f8eb\">StandardScaler</label><div class=\"sk-toggleable__content\"><pre>StandardScaler()</pre></div></div></div></div></div></div></div></div><div class=\"sk-parallel-item\"><div class=\"sk-item\"><div class=\"sk-label-container\"><div class=\"sk-label sk-toggleable\"><input class=\"sk-toggleable__control sk-hidden--visually\" id=\"208f9bd3-d687-455d-889e-16e9df64dbe8\" type=\"checkbox\" ><label class=\"sk-toggleable__label\" for=\"208f9bd3-d687-455d-889e-16e9df64dbe8\">cat</label><div class=\"sk-toggleable__content\"><pre>['Point_10']</pre></div></div></div><div class=\"sk-serial\"><div class=\"sk-item\"><div class=\"sk-serial\"><div class=\"sk-item\"><div class=\"sk-estimator sk-toggleable\"><input class=\"sk-toggleable__control sk-hidden--visually\" id=\"424694d3-f1a8-4bce-bc9f-af4e3c9ea662\" type=\"checkbox\" ><label class=\"sk-toggleable__label\" for=\"424694d3-f1a8-4bce-bc9f-af4e3c9ea662\">OneHotEncoder</label><div class=\"sk-toggleable__content\"><pre>OneHotEncoder(handle_unknown='ignore')</pre></div></div></div></div></div></div></div></div></div></div><div class=\"sk-item\"><div class=\"sk-estimator sk-toggleable\"><input class=\"sk-toggleable__control sk-hidden--visually\" id=\"a250cbc5-4d3b-4c54-9281-e1e8777466dc\" type=\"checkbox\" ><label class=\"sk-toggleable__label\" for=\"a250cbc5-4d3b-4c54-9281-e1e8777466dc\">LGBMRegressor</label><div class=\"sk-toggleable__content\"><pre>LGBMRegressor(random_state=3832, reg_alpha=0, reg_lambda=0)</pre></div></div></div></div></div></div></div>"
      ],
      "text/plain": [
       "Pipeline(steps=[('preprocessor',\n",
       "                 ColumnTransformer(transformers=[('num',\n",
       "                                                  Pipeline(steps=[('scaler',\n",
       "                                                                   StandardScaler())]),\n",
       "                                                  ['Point_34', 'Point_17',\n",
       "                                                   'Point_37', 'Point_21',\n",
       "                                                   'Point_194', 'Point_26',\n",
       "                                                   'Point_22', 'Point_9',\n",
       "                                                   'Point_13', 'Point_23']),\n",
       "                                                 ('cat',\n",
       "                                                  Pipeline(steps=[('onehot',\n",
       "                                                                   OneHotEncoder(handle_unknown='ignore'))]),\n",
       "                                                  ['Point_10'])])),\n",
       "                ('model',\n",
       "                 LGBMRegressor(random_state=3832, reg_alpha=0, reg_lambda=0))])"
      ]
     },
     "execution_count": 82,
     "metadata": {},
     "output_type": "execute_result"
    }
   ],
   "source": [
    "lgb_pipeline = Pipeline(steps=[('preprocessor', preprocessor),\n",
    "                              ('model', lgboost)])\n",
    "\n",
    "lgb_pipeline.fit(X_train, y_train)"
   ]
  },
  {
   "cell_type": "code",
   "execution_count": 83,
   "metadata": {},
   "outputs": [],
   "source": [
    "lgb_preds = lgb_pipeline.predict(X_test)"
   ]
  },
  {
   "cell_type": "code",
   "execution_count": 84,
   "metadata": {},
   "outputs": [
    {
     "name": "stdout",
     "output_type": "stream",
     "text": [
      "0.8818669594320333\n",
      "0.8818669594320333\n",
      "3.132556688764678\n"
     ]
    }
   ],
   "source": [
    "print(lgb_pipeline.score(X_test,y_test))\n",
    "print(r2_score(y_test, lgb_preds))\n",
    "print(mean_absolute_error(y_test, lgb_preds))"
   ]
  },
  {
   "cell_type": "code",
   "execution_count": 85,
   "metadata": {},
   "outputs": [],
   "source": [
    "# save model for deployment\n",
    "import pickle\n",
    "\n",
    "filename = 'lgb_model.sav'\n",
    "pickle.dump(lgb_pipeline, open(filename, 'wb'))"
   ]
  },
  {
   "cell_type": "code",
   "execution_count": null,
   "metadata": {},
   "outputs": [],
   "source": [
    "# to load model\n",
    "#loaded_model = pickle.load(open(filename, 'wb'))"
   ]
  }
 ],
 "metadata": {
  "interpreter": {
   "hash": "233d489b6eb679bbd82a77c34b6348f6f8b942d20c1f9e48939f104b69f0434c"
  },
  "kernelspec": {
   "display_name": "Python 3.8.5 64-bit ('base': conda)",
   "name": "python3"
  },
  "language_info": {
   "codemirror_mode": {
    "name": "ipython",
    "version": 3
   },
   "file_extension": ".py",
   "mimetype": "text/x-python",
   "name": "python",
   "nbconvert_exporter": "python",
   "pygments_lexer": "ipython3",
   "version": "3.8.5"
  },
  "orig_nbformat": 4
 },
 "nbformat": 4,
 "nbformat_minor": 2
}