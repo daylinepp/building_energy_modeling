{
 "cells": [
  {
   "cell_type": "markdown",
   "source": [
    "# Supervised Learning Energy Modeling"
   ],
   "metadata": {}
  },
  {
   "cell_type": "code",
   "execution_count": 2,
   "source": [
    "import pandas as pd\n",
    "import numpy as np\n",
    "import pickle"
   ],
   "outputs": [],
   "metadata": {}
  },
  {
   "cell_type": "code",
   "execution_count": 3,
   "source": [
    "from sklearn.model_selection import train_test_split\n",
    "from sklearn.compose import ColumnTransformer\n",
    "from sklearn.preprocessing import OneHotEncoder\n",
    "from sklearn.preprocessing import StandardScaler\n",
    "from sklearn.pipeline import Pipeline\n",
    "from sklearn.metrics import r2_score, mean_absolute_error\n",
    "from sklearn.ensemble import RandomForestRegressor\n",
    "from sklearn.ensemble import GradientBoostingRegressor\n",
    "import lightgbm as lgb\n",
    "import xgboost as xgb"
   ],
   "outputs": [],
   "metadata": {}
  },
  {
   "cell_type": "markdown",
   "source": [
    "#### Feature Importance:\n",
    "From PyCaret Model Evaluation we find that the top 10 features are:\n",
    "- Point_34: \"A1SAK\" - Set Point\n",
    "- Point_17: \"A1LPS\" - Total Flow\n",
    "- Point_37: \"A1SAT\" - Supply Air Temp\n",
    "- Point_21: \"A1MAT\" - Mixed Air Temp\n",
    "- Point_194: \"MUA1SAT\" - Make Up Air Unit 1 Supply Temp\n",
    "- Point_26: \"A1MXRT\" - Max Room Temp\n",
    "- Point_22: \"A1MNRE\" - Min Room Error\n",
    "- Point_9: \"A1CO2\" - Return Carbon Dioxide\n",
    "- Point_13: \"A1DP\" - Duct Pressure Point\n",
    "- Point_23: \"A1MNRT\" - Min Room Temp\n",
    "\n",
    "But we should also look at:\n",
    "- Point_ 10: \"A1DAY\" - Air Handling Unit Supply Fan\n",
    "    - Note: This is the only categorical feature. But it could be interesting to look at. If value is ON that means the building is occupied.\n",
    "\n",
    "This makes 11 features that are found to be most correlated with Hourly Energy Consumption, and should be good predictors."
   ],
   "metadata": {}
  },
  {
   "cell_type": "markdown",
   "source": [
    "On second iteration, these features were the top 10. Two new features appeared with high importance:\n",
    "- Point_37\n",
    "- Point_34\n",
    "- Point_17\n",
    "- Point_13\n",
    "- **Point_90: \"AVOAT\" - Average Outside Air Temp\n",
    "- Point_21\n",
    "- Point_194\n",
    "- **Point_198: \"MUA2SAT\" - Make Up Air Unit 2 Supply Temp\n",
    "- Point_26\n",
    "- Point_22\n",
    "\n",
    "This makes 13 features in total."
   ],
   "metadata": {}
  },
  {
   "cell_type": "code",
   "execution_count": 4,
   "source": [
    "# load clean data\n",
    "df = pd.read_csv('../raw_data/model_data_v1.csv')"
   ],
   "outputs": [
    {
     "output_type": "stream",
     "name": "stderr",
     "text": [
      "/Users/daylin/opt/anaconda3/lib/python3.8/site-packages/IPython/core/interactiveshell.py:3146: DtypeWarning: Columns (27,38,39,67,77,106,163) have mixed types.Specify dtype option on import or set low_memory=False.\n",
      "  has_raised = await self.run_ast_nodes(code_ast.body, cell_name,\n"
     ]
    }
   ],
   "metadata": {}
  },
  {
   "cell_type": "code",
   "execution_count": 5,
   "source": [
    "# feature lists, initially taken from PyCaret results for iter1\n",
    "# feature importance taken after modelling to create iter 2, whihc will now be used\n",
    "features_iter1 = ['Hourly Energy Cons (kWh)', 'Point_34', 'Point_17', 'Point_37', 'Point_21', 'Point_194',\n",
    "                  'Point_26', 'Point_22', 'Point_9', 'Point_13', 'Point_23', 'Point_10']\n",
    "features_iter2 = ['Hourly Energy Cons (kWh)', 'Point_34', 'Point_17', 'Point_37', 'Point_21', 'Point_194',\n",
    "                  'Point_26', 'Point_22', 'Point_9', 'Point_13', 'Point_23', 'Point_90', 'Point_198', 'Point_10']"
   ],
   "outputs": [],
   "metadata": {}
  },
  {
   "cell_type": "code",
   "execution_count": 6,
   "source": [
    "df_feat = df[features_iter2].copy()"
   ],
   "outputs": [],
   "metadata": {}
  },
  {
   "cell_type": "code",
   "execution_count": 7,
   "source": [
    "df_feat"
   ],
   "outputs": [
    {
     "output_type": "execute_result",
     "data": {
      "text/plain": [
       "      Hourly Energy Cons (kWh)  Point_34  Point_17  Point_37  Point_21  \\\n",
       "0                         15.0      17.8       513      18.9      15.5   \n",
       "1                         15.0      17.8       513      16.9      15.5   \n",
       "2                         10.0      17.8       513      16.9      13.5   \n",
       "3                         15.0      17.8       513      16.9      13.5   \n",
       "4                         15.0      17.8       513      16.9      13.5   \n",
       "...                        ...       ...       ...       ...       ...   \n",
       "8754                      10.0      24.2       218      24.7      26.0   \n",
       "8755                      15.0      24.2       218      24.7      28.0   \n",
       "8756                      15.0      24.2       218      24.7      28.0   \n",
       "8757                      25.0      24.2       218      24.7      26.0   \n",
       "8758                      25.0      24.2       218      24.7      24.0   \n",
       "\n",
       "      Point_194  Point_26  Point_22  Point_9  Point_13  Point_23  Point_90  \\\n",
       "0          17.4      21.3       1.7      413        18      18.0      14.4   \n",
       "1          16.8      20.7       0.5      413        18      18.0      13.9   \n",
       "2          16.3      20.7       0.5      413        18      17.4      13.3   \n",
       "3          16.3      20.2       0.5      413        18      17.4      12.8   \n",
       "4          16.3      20.2       0.5      413        18      16.9      12.8   \n",
       "...         ...       ...       ...      ...       ...       ...       ...   \n",
       "8754       26.4      25.1       5.2      397        24      22.2      23.8   \n",
       "8755       25.9      24.6       5.2      397        24      22.2      23.2   \n",
       "8756       25.3      24.6       5.2      397        24      22.2      23.1   \n",
       "8757       24.2      24.6       5.2      397        24      22.2      21.4   \n",
       "8758       23.0      24.6       5.2      397        24      22.2      20.9   \n",
       "\n",
       "      Point_198 Point_10  \n",
       "0          17.1      OFF  \n",
       "1          17.1      OFF  \n",
       "2          16.5      OFF  \n",
       "3          16.5      OFF  \n",
       "4          16.0       ON  \n",
       "...         ...      ...  \n",
       "8754       26.1      OFF  \n",
       "8755       26.1      OFF  \n",
       "8756       24.9      OFF  \n",
       "8757       24.4      OFF  \n",
       "8758       23.2      OFF  \n",
       "\n",
       "[8759 rows x 14 columns]"
      ],
      "text/html": [
       "<div>\n",
       "<style scoped>\n",
       "    .dataframe tbody tr th:only-of-type {\n",
       "        vertical-align: middle;\n",
       "    }\n",
       "\n",
       "    .dataframe tbody tr th {\n",
       "        vertical-align: top;\n",
       "    }\n",
       "\n",
       "    .dataframe thead th {\n",
       "        text-align: right;\n",
       "    }\n",
       "</style>\n",
       "<table border=\"1\" class=\"dataframe\">\n",
       "  <thead>\n",
       "    <tr style=\"text-align: right;\">\n",
       "      <th></th>\n",
       "      <th>Hourly Energy Cons (kWh)</th>\n",
       "      <th>Point_34</th>\n",
       "      <th>Point_17</th>\n",
       "      <th>Point_37</th>\n",
       "      <th>Point_21</th>\n",
       "      <th>Point_194</th>\n",
       "      <th>Point_26</th>\n",
       "      <th>Point_22</th>\n",
       "      <th>Point_9</th>\n",
       "      <th>Point_13</th>\n",
       "      <th>Point_23</th>\n",
       "      <th>Point_90</th>\n",
       "      <th>Point_198</th>\n",
       "      <th>Point_10</th>\n",
       "    </tr>\n",
       "  </thead>\n",
       "  <tbody>\n",
       "    <tr>\n",
       "      <th>0</th>\n",
       "      <td>15.0</td>\n",
       "      <td>17.8</td>\n",
       "      <td>513</td>\n",
       "      <td>18.9</td>\n",
       "      <td>15.5</td>\n",
       "      <td>17.4</td>\n",
       "      <td>21.3</td>\n",
       "      <td>1.7</td>\n",
       "      <td>413</td>\n",
       "      <td>18</td>\n",
       "      <td>18.0</td>\n",
       "      <td>14.4</td>\n",
       "      <td>17.1</td>\n",
       "      <td>OFF</td>\n",
       "    </tr>\n",
       "    <tr>\n",
       "      <th>1</th>\n",
       "      <td>15.0</td>\n",
       "      <td>17.8</td>\n",
       "      <td>513</td>\n",
       "      <td>16.9</td>\n",
       "      <td>15.5</td>\n",
       "      <td>16.8</td>\n",
       "      <td>20.7</td>\n",
       "      <td>0.5</td>\n",
       "      <td>413</td>\n",
       "      <td>18</td>\n",
       "      <td>18.0</td>\n",
       "      <td>13.9</td>\n",
       "      <td>17.1</td>\n",
       "      <td>OFF</td>\n",
       "    </tr>\n",
       "    <tr>\n",
       "      <th>2</th>\n",
       "      <td>10.0</td>\n",
       "      <td>17.8</td>\n",
       "      <td>513</td>\n",
       "      <td>16.9</td>\n",
       "      <td>13.5</td>\n",
       "      <td>16.3</td>\n",
       "      <td>20.7</td>\n",
       "      <td>0.5</td>\n",
       "      <td>413</td>\n",
       "      <td>18</td>\n",
       "      <td>17.4</td>\n",
       "      <td>13.3</td>\n",
       "      <td>16.5</td>\n",
       "      <td>OFF</td>\n",
       "    </tr>\n",
       "    <tr>\n",
       "      <th>3</th>\n",
       "      <td>15.0</td>\n",
       "      <td>17.8</td>\n",
       "      <td>513</td>\n",
       "      <td>16.9</td>\n",
       "      <td>13.5</td>\n",
       "      <td>16.3</td>\n",
       "      <td>20.2</td>\n",
       "      <td>0.5</td>\n",
       "      <td>413</td>\n",
       "      <td>18</td>\n",
       "      <td>17.4</td>\n",
       "      <td>12.8</td>\n",
       "      <td>16.5</td>\n",
       "      <td>OFF</td>\n",
       "    </tr>\n",
       "    <tr>\n",
       "      <th>4</th>\n",
       "      <td>15.0</td>\n",
       "      <td>17.8</td>\n",
       "      <td>513</td>\n",
       "      <td>16.9</td>\n",
       "      <td>13.5</td>\n",
       "      <td>16.3</td>\n",
       "      <td>20.2</td>\n",
       "      <td>0.5</td>\n",
       "      <td>413</td>\n",
       "      <td>18</td>\n",
       "      <td>16.9</td>\n",
       "      <td>12.8</td>\n",
       "      <td>16.0</td>\n",
       "      <td>ON</td>\n",
       "    </tr>\n",
       "    <tr>\n",
       "      <th>...</th>\n",
       "      <td>...</td>\n",
       "      <td>...</td>\n",
       "      <td>...</td>\n",
       "      <td>...</td>\n",
       "      <td>...</td>\n",
       "      <td>...</td>\n",
       "      <td>...</td>\n",
       "      <td>...</td>\n",
       "      <td>...</td>\n",
       "      <td>...</td>\n",
       "      <td>...</td>\n",
       "      <td>...</td>\n",
       "      <td>...</td>\n",
       "      <td>...</td>\n",
       "    </tr>\n",
       "    <tr>\n",
       "      <th>8754</th>\n",
       "      <td>10.0</td>\n",
       "      <td>24.2</td>\n",
       "      <td>218</td>\n",
       "      <td>24.7</td>\n",
       "      <td>26.0</td>\n",
       "      <td>26.4</td>\n",
       "      <td>25.1</td>\n",
       "      <td>5.2</td>\n",
       "      <td>397</td>\n",
       "      <td>24</td>\n",
       "      <td>22.2</td>\n",
       "      <td>23.8</td>\n",
       "      <td>26.1</td>\n",
       "      <td>OFF</td>\n",
       "    </tr>\n",
       "    <tr>\n",
       "      <th>8755</th>\n",
       "      <td>15.0</td>\n",
       "      <td>24.2</td>\n",
       "      <td>218</td>\n",
       "      <td>24.7</td>\n",
       "      <td>28.0</td>\n",
       "      <td>25.9</td>\n",
       "      <td>24.6</td>\n",
       "      <td>5.2</td>\n",
       "      <td>397</td>\n",
       "      <td>24</td>\n",
       "      <td>22.2</td>\n",
       "      <td>23.2</td>\n",
       "      <td>26.1</td>\n",
       "      <td>OFF</td>\n",
       "    </tr>\n",
       "    <tr>\n",
       "      <th>8756</th>\n",
       "      <td>15.0</td>\n",
       "      <td>24.2</td>\n",
       "      <td>218</td>\n",
       "      <td>24.7</td>\n",
       "      <td>28.0</td>\n",
       "      <td>25.3</td>\n",
       "      <td>24.6</td>\n",
       "      <td>5.2</td>\n",
       "      <td>397</td>\n",
       "      <td>24</td>\n",
       "      <td>22.2</td>\n",
       "      <td>23.1</td>\n",
       "      <td>24.9</td>\n",
       "      <td>OFF</td>\n",
       "    </tr>\n",
       "    <tr>\n",
       "      <th>8757</th>\n",
       "      <td>25.0</td>\n",
       "      <td>24.2</td>\n",
       "      <td>218</td>\n",
       "      <td>24.7</td>\n",
       "      <td>26.0</td>\n",
       "      <td>24.2</td>\n",
       "      <td>24.6</td>\n",
       "      <td>5.2</td>\n",
       "      <td>397</td>\n",
       "      <td>24</td>\n",
       "      <td>22.2</td>\n",
       "      <td>21.4</td>\n",
       "      <td>24.4</td>\n",
       "      <td>OFF</td>\n",
       "    </tr>\n",
       "    <tr>\n",
       "      <th>8758</th>\n",
       "      <td>25.0</td>\n",
       "      <td>24.2</td>\n",
       "      <td>218</td>\n",
       "      <td>24.7</td>\n",
       "      <td>24.0</td>\n",
       "      <td>23.0</td>\n",
       "      <td>24.6</td>\n",
       "      <td>5.2</td>\n",
       "      <td>397</td>\n",
       "      <td>24</td>\n",
       "      <td>22.2</td>\n",
       "      <td>20.9</td>\n",
       "      <td>23.2</td>\n",
       "      <td>OFF</td>\n",
       "    </tr>\n",
       "  </tbody>\n",
       "</table>\n",
       "<p>8759 rows × 14 columns</p>\n",
       "</div>"
      ]
     },
     "metadata": {},
     "execution_count": 7
    }
   ],
   "metadata": {}
  },
  {
   "cell_type": "code",
   "execution_count": 8,
   "source": [
    "df_feat.dtypes"
   ],
   "outputs": [
    {
     "output_type": "execute_result",
     "data": {
      "text/plain": [
       "Hourly Energy Cons (kWh)    float64\n",
       "Point_34                    float64\n",
       "Point_17                      int64\n",
       "Point_37                    float64\n",
       "Point_21                    float64\n",
       "Point_194                   float64\n",
       "Point_26                    float64\n",
       "Point_22                    float64\n",
       "Point_9                       int64\n",
       "Point_13                      int64\n",
       "Point_23                    float64\n",
       "Point_90                    float64\n",
       "Point_198                   float64\n",
       "Point_10                     object\n",
       "dtype: object"
      ]
     },
     "metadata": {},
     "execution_count": 8
    }
   ],
   "metadata": {}
  },
  {
   "cell_type": "code",
   "execution_count": 9,
   "source": [
    "df_feat.isnull().sum()"
   ],
   "outputs": [
    {
     "output_type": "execute_result",
     "data": {
      "text/plain": [
       "Hourly Energy Cons (kWh)    0\n",
       "Point_34                    0\n",
       "Point_17                    0\n",
       "Point_37                    0\n",
       "Point_21                    0\n",
       "Point_194                   0\n",
       "Point_26                    0\n",
       "Point_22                    0\n",
       "Point_9                     0\n",
       "Point_13                    0\n",
       "Point_23                    0\n",
       "Point_90                    0\n",
       "Point_198                   0\n",
       "Point_10                    0\n",
       "dtype: int64"
      ]
     },
     "metadata": {},
     "execution_count": 9
    }
   ],
   "metadata": {}
  },
  {
   "cell_type": "code",
   "execution_count": 10,
   "source": [
    "# inspect numeric features in more detail\n",
    "df_feat.describe()"
   ],
   "outputs": [
    {
     "output_type": "execute_result",
     "data": {
      "text/plain": [
       "       Hourly Energy Cons (kWh)     Point_34     Point_17     Point_37  \\\n",
       "count               8759.000000  8759.000000  8759.000000  8759.000000   \n",
       "mean                  24.682612    21.502398  1876.525973    21.093675   \n",
       "std                   12.692877     5.174269  1887.459660     4.203152   \n",
       "min                    0.000000    10.000000     0.000000     9.900000   \n",
       "25%                   15.000000    17.100000   334.000000    17.900000   \n",
       "50%                   20.000000    20.700000   651.000000    20.600000   \n",
       "75%                   35.000000    26.000000  3565.000000    24.000000   \n",
       "max                   75.000000    32.300000  7474.000000    32.200000   \n",
       "\n",
       "          Point_21    Point_194     Point_26     Point_22      Point_9  \\\n",
       "count  8759.000000  8759.000000  8759.000000  8759.000000  8759.000000   \n",
       "mean     20.189999    19.061971    23.206325    -0.267439   446.183811   \n",
       "std       4.000844     3.800795     1.905135     3.277519    45.515758   \n",
       "min      11.300000    13.100000    19.300000    -9.100000   396.000000   \n",
       "25%      17.300000    15.400000    21.700000    -2.700000   410.000000   \n",
       "50%      20.100000    18.900000    23.700000    -1.500000   447.000000   \n",
       "75%      22.000000    21.100000    24.400000     2.600000   477.000000   \n",
       "max      39.400000    33.500000    34.200000    10.100000   729.000000   \n",
       "\n",
       "          Point_13     Point_23     Point_90    Point_198  \n",
       "count  8759.000000  8759.000000  8759.000000  8759.000000  \n",
       "mean    114.315447    19.323781    13.028816    18.574015  \n",
       "std     126.059888     2.385430     6.243140     3.963442  \n",
       "min       8.000000    14.900000    -1.200000    12.900000  \n",
       "25%      15.000000    17.100000     7.900000    14.900000  \n",
       "50%      22.000000    20.000000    12.300000    18.300000  \n",
       "75%     210.000000    21.300000    17.800000    20.900000  \n",
       "max     478.000000    26.200000    32.300000    32.600000  "
      ],
      "text/html": [
       "<div>\n",
       "<style scoped>\n",
       "    .dataframe tbody tr th:only-of-type {\n",
       "        vertical-align: middle;\n",
       "    }\n",
       "\n",
       "    .dataframe tbody tr th {\n",
       "        vertical-align: top;\n",
       "    }\n",
       "\n",
       "    .dataframe thead th {\n",
       "        text-align: right;\n",
       "    }\n",
       "</style>\n",
       "<table border=\"1\" class=\"dataframe\">\n",
       "  <thead>\n",
       "    <tr style=\"text-align: right;\">\n",
       "      <th></th>\n",
       "      <th>Hourly Energy Cons (kWh)</th>\n",
       "      <th>Point_34</th>\n",
       "      <th>Point_17</th>\n",
       "      <th>Point_37</th>\n",
       "      <th>Point_21</th>\n",
       "      <th>Point_194</th>\n",
       "      <th>Point_26</th>\n",
       "      <th>Point_22</th>\n",
       "      <th>Point_9</th>\n",
       "      <th>Point_13</th>\n",
       "      <th>Point_23</th>\n",
       "      <th>Point_90</th>\n",
       "      <th>Point_198</th>\n",
       "    </tr>\n",
       "  </thead>\n",
       "  <tbody>\n",
       "    <tr>\n",
       "      <th>count</th>\n",
       "      <td>8759.000000</td>\n",
       "      <td>8759.000000</td>\n",
       "      <td>8759.000000</td>\n",
       "      <td>8759.000000</td>\n",
       "      <td>8759.000000</td>\n",
       "      <td>8759.000000</td>\n",
       "      <td>8759.000000</td>\n",
       "      <td>8759.000000</td>\n",
       "      <td>8759.000000</td>\n",
       "      <td>8759.000000</td>\n",
       "      <td>8759.000000</td>\n",
       "      <td>8759.000000</td>\n",
       "      <td>8759.000000</td>\n",
       "    </tr>\n",
       "    <tr>\n",
       "      <th>mean</th>\n",
       "      <td>24.682612</td>\n",
       "      <td>21.502398</td>\n",
       "      <td>1876.525973</td>\n",
       "      <td>21.093675</td>\n",
       "      <td>20.189999</td>\n",
       "      <td>19.061971</td>\n",
       "      <td>23.206325</td>\n",
       "      <td>-0.267439</td>\n",
       "      <td>446.183811</td>\n",
       "      <td>114.315447</td>\n",
       "      <td>19.323781</td>\n",
       "      <td>13.028816</td>\n",
       "      <td>18.574015</td>\n",
       "    </tr>\n",
       "    <tr>\n",
       "      <th>std</th>\n",
       "      <td>12.692877</td>\n",
       "      <td>5.174269</td>\n",
       "      <td>1887.459660</td>\n",
       "      <td>4.203152</td>\n",
       "      <td>4.000844</td>\n",
       "      <td>3.800795</td>\n",
       "      <td>1.905135</td>\n",
       "      <td>3.277519</td>\n",
       "      <td>45.515758</td>\n",
       "      <td>126.059888</td>\n",
       "      <td>2.385430</td>\n",
       "      <td>6.243140</td>\n",
       "      <td>3.963442</td>\n",
       "    </tr>\n",
       "    <tr>\n",
       "      <th>min</th>\n",
       "      <td>0.000000</td>\n",
       "      <td>10.000000</td>\n",
       "      <td>0.000000</td>\n",
       "      <td>9.900000</td>\n",
       "      <td>11.300000</td>\n",
       "      <td>13.100000</td>\n",
       "      <td>19.300000</td>\n",
       "      <td>-9.100000</td>\n",
       "      <td>396.000000</td>\n",
       "      <td>8.000000</td>\n",
       "      <td>14.900000</td>\n",
       "      <td>-1.200000</td>\n",
       "      <td>12.900000</td>\n",
       "    </tr>\n",
       "    <tr>\n",
       "      <th>25%</th>\n",
       "      <td>15.000000</td>\n",
       "      <td>17.100000</td>\n",
       "      <td>334.000000</td>\n",
       "      <td>17.900000</td>\n",
       "      <td>17.300000</td>\n",
       "      <td>15.400000</td>\n",
       "      <td>21.700000</td>\n",
       "      <td>-2.700000</td>\n",
       "      <td>410.000000</td>\n",
       "      <td>15.000000</td>\n",
       "      <td>17.100000</td>\n",
       "      <td>7.900000</td>\n",
       "      <td>14.900000</td>\n",
       "    </tr>\n",
       "    <tr>\n",
       "      <th>50%</th>\n",
       "      <td>20.000000</td>\n",
       "      <td>20.700000</td>\n",
       "      <td>651.000000</td>\n",
       "      <td>20.600000</td>\n",
       "      <td>20.100000</td>\n",
       "      <td>18.900000</td>\n",
       "      <td>23.700000</td>\n",
       "      <td>-1.500000</td>\n",
       "      <td>447.000000</td>\n",
       "      <td>22.000000</td>\n",
       "      <td>20.000000</td>\n",
       "      <td>12.300000</td>\n",
       "      <td>18.300000</td>\n",
       "    </tr>\n",
       "    <tr>\n",
       "      <th>75%</th>\n",
       "      <td>35.000000</td>\n",
       "      <td>26.000000</td>\n",
       "      <td>3565.000000</td>\n",
       "      <td>24.000000</td>\n",
       "      <td>22.000000</td>\n",
       "      <td>21.100000</td>\n",
       "      <td>24.400000</td>\n",
       "      <td>2.600000</td>\n",
       "      <td>477.000000</td>\n",
       "      <td>210.000000</td>\n",
       "      <td>21.300000</td>\n",
       "      <td>17.800000</td>\n",
       "      <td>20.900000</td>\n",
       "    </tr>\n",
       "    <tr>\n",
       "      <th>max</th>\n",
       "      <td>75.000000</td>\n",
       "      <td>32.300000</td>\n",
       "      <td>7474.000000</td>\n",
       "      <td>32.200000</td>\n",
       "      <td>39.400000</td>\n",
       "      <td>33.500000</td>\n",
       "      <td>34.200000</td>\n",
       "      <td>10.100000</td>\n",
       "      <td>729.000000</td>\n",
       "      <td>478.000000</td>\n",
       "      <td>26.200000</td>\n",
       "      <td>32.300000</td>\n",
       "      <td>32.600000</td>\n",
       "    </tr>\n",
       "  </tbody>\n",
       "</table>\n",
       "</div>"
      ]
     },
     "metadata": {},
     "execution_count": 10
    }
   ],
   "metadata": {}
  },
  {
   "cell_type": "code",
   "execution_count": 11,
   "source": [
    "# confirm categorical feature has only 2 values\n",
    "df_feat.Point_10.unique()"
   ],
   "outputs": [
    {
     "output_type": "execute_result",
     "data": {
      "text/plain": [
       "array(['OFF', 'ON'], dtype=object)"
      ]
     },
     "metadata": {},
     "execution_count": 11
    }
   ],
   "metadata": {}
  },
  {
   "cell_type": "markdown",
   "source": [
    "# Modeling"
   ],
   "metadata": {}
  },
  {
   "cell_type": "code",
   "execution_count": 12,
   "source": [
    "# separate target variable and split data into train and test sets\n",
    "y = df_feat['Hourly Energy Cons (kWh)']\n",
    "X = df_feat.drop(['Hourly Energy Cons (kWh)'], axis=1)\n",
    "\n",
    "X_train, X_test, y_train, y_test = train_test_split(X, y, test_size=0.3, random_state=3832)"
   ],
   "outputs": [],
   "metadata": {}
  },
  {
   "cell_type": "code",
   "execution_count": 13,
   "source": [
    "print(X_train.shape)\n",
    "print(X_test.shape)"
   ],
   "outputs": [
    {
     "output_type": "stream",
     "name": "stdout",
     "text": [
      "(6131, 13)\n",
      "(2628, 13)\n"
     ]
    }
   ],
   "metadata": {}
  },
  {
   "cell_type": "code",
   "execution_count": 14,
   "source": [
    "# separate categorical columns and numerical columns\n",
    "categorical_cols = [cname for cname in X_train.columns if X_train[cname].dtype == \"object\"]\n",
    "\n",
    "numerical_cols = [cname for cname in X_train.columns if X_train[cname].dtype in ['int64', 'float64']]"
   ],
   "outputs": [],
   "metadata": {}
  },
  {
   "cell_type": "code",
   "execution_count": 15,
   "source": [
    "# Preprocessing for numerical data\n",
    "numerical_transformer = Pipeline(steps=[('scaler', StandardScaler())\n",
    "                                        ])\n",
    "\n",
    "# Preprocessing for categorical data\n",
    "categorical_transformer = Pipeline(steps=[('onehot', OneHotEncoder(handle_unknown='ignore'))\n",
    "                                        ])\n",
    "                                        \n",
    "# Bundle preprocessing for numerical and categorical data\n",
    "preprocessor = ColumnTransformer(transformers=[('num', numerical_transformer, numerical_cols),\n",
    "                                               ('cat', categorical_transformer, categorical_cols)\n",
    "                                               ])\n",
    "\n",
    "# Define model\n",
    "rf_reg = RandomForestRegressor(random_state=3832)\n",
    "gb_reg = GradientBoostingRegressor(random_state=3832)\n",
    "xgboost = xgb.XGBRegressor()\n",
    "lgboost = lgb.LGBMRegressor(num_leaves=31, n_estimators=100, max_depth=-1,\n",
    "                            learning_rate=0.1, random_state=3832, min_child_samples=20,\n",
    "                            min_child_weight=0.001, min_split_gain=0.0, reg_alpha=0, reg_lambda=0,\n",
    "                            subsample=1.0, colsample_bytree=1.0)\n",
    "# hyperparameters ultimately taken from PyCaret results"
   ],
   "outputs": [],
   "metadata": {}
  },
  {
   "cell_type": "code",
   "execution_count": 16,
   "source": [
    "# Display HTML representation in a jupyter context\n",
    "from sklearn import set_config\n",
    "set_config(display='diagram')"
   ],
   "outputs": [],
   "metadata": {}
  },
  {
   "cell_type": "markdown",
   "source": [
    "## Random Forest"
   ],
   "metadata": {}
  },
  {
   "cell_type": "code",
   "execution_count": 17,
   "source": [
    "pipeline = Pipeline(steps=[('preprocessor', preprocessor),\n",
    "                           ('model', rf_reg)])\n",
    "\n",
    "pipeline.fit(X_train, y_train)"
   ],
   "outputs": [
    {
     "output_type": "execute_result",
     "data": {
      "text/plain": [
       "Pipeline(steps=[('preprocessor',\n",
       "                 ColumnTransformer(transformers=[('num',\n",
       "                                                  Pipeline(steps=[('scaler',\n",
       "                                                                   StandardScaler())]),\n",
       "                                                  ['Point_34', 'Point_17',\n",
       "                                                   'Point_37', 'Point_21',\n",
       "                                                   'Point_194', 'Point_26',\n",
       "                                                   'Point_22', 'Point_9',\n",
       "                                                   'Point_13', 'Point_23',\n",
       "                                                   'Point_90', 'Point_198']),\n",
       "                                                 ('cat',\n",
       "                                                  Pipeline(steps=[('onehot',\n",
       "                                                                   OneHotEncoder(handle_unknown='ignore'))]),\n",
       "                                                  ['Point_10'])])),\n",
       "                ('model', RandomForestRegressor(random_state=3832))])"
      ],
      "text/html": [
       "<style>div.sk-top-container {color: black;background-color: white;}div.sk-toggleable {background-color: white;}label.sk-toggleable__label {cursor: pointer;display: block;width: 100%;margin-bottom: 0;padding: 0.2em 0.3em;box-sizing: border-box;text-align: center;}div.sk-toggleable__content {max-height: 0;max-width: 0;overflow: hidden;text-align: left;background-color: #f0f8ff;}div.sk-toggleable__content pre {margin: 0.2em;color: black;border-radius: 0.25em;background-color: #f0f8ff;}input.sk-toggleable__control:checked~div.sk-toggleable__content {max-height: 200px;max-width: 100%;overflow: auto;}div.sk-estimator input.sk-toggleable__control:checked~label.sk-toggleable__label {background-color: #d4ebff;}div.sk-label input.sk-toggleable__control:checked~label.sk-toggleable__label {background-color: #d4ebff;}input.sk-hidden--visually {border: 0;clip: rect(1px 1px 1px 1px);clip: rect(1px, 1px, 1px, 1px);height: 1px;margin: -1px;overflow: hidden;padding: 0;position: absolute;width: 1px;}div.sk-estimator {font-family: monospace;background-color: #f0f8ff;margin: 0.25em 0.25em;border: 1px dotted black;border-radius: 0.25em;box-sizing: border-box;}div.sk-estimator:hover {background-color: #d4ebff;}div.sk-parallel-item::after {content: \"\";width: 100%;border-bottom: 1px solid gray;flex-grow: 1;}div.sk-label:hover label.sk-toggleable__label {background-color: #d4ebff;}div.sk-serial::before {content: \"\";position: absolute;border-left: 1px solid gray;box-sizing: border-box;top: 2em;bottom: 0;left: 50%;}div.sk-serial {display: flex;flex-direction: column;align-items: center;background-color: white;}div.sk-item {z-index: 1;}div.sk-parallel {display: flex;align-items: stretch;justify-content: center;background-color: white;}div.sk-parallel-item {display: flex;flex-direction: column;position: relative;background-color: white;}div.sk-parallel-item:first-child::after {align-self: flex-end;width: 50%;}div.sk-parallel-item:last-child::after {align-self: flex-start;width: 50%;}div.sk-parallel-item:only-child::after {width: 0;}div.sk-dashed-wrapped {border: 1px dashed gray;margin: 0.2em;box-sizing: border-box;padding-bottom: 0.1em;background-color: white;position: relative;}div.sk-label label {font-family: monospace;font-weight: bold;background-color: white;display: inline-block;line-height: 1.2em;}div.sk-label-container {position: relative;z-index: 2;text-align: center;}div.sk-container {display: inline-block;position: relative;}</style><div class=\"sk-top-container\"><div class=\"sk-container\"><div class=\"sk-item sk-dashed-wrapped\"><div class=\"sk-label-container\"><div class=\"sk-label sk-toggleable\"><input class=\"sk-toggleable__control sk-hidden--visually\" id=\"6c8ff0b6-c134-4faf-a70d-c927d2bece26\" type=\"checkbox\" ><label class=\"sk-toggleable__label\" for=\"6c8ff0b6-c134-4faf-a70d-c927d2bece26\">Pipeline</label><div class=\"sk-toggleable__content\"><pre>Pipeline(steps=[('preprocessor',\n",
       "                 ColumnTransformer(transformers=[('num',\n",
       "                                                  Pipeline(steps=[('scaler',\n",
       "                                                                   StandardScaler())]),\n",
       "                                                  ['Point_34', 'Point_17',\n",
       "                                                   'Point_37', 'Point_21',\n",
       "                                                   'Point_194', 'Point_26',\n",
       "                                                   'Point_22', 'Point_9',\n",
       "                                                   'Point_13', 'Point_23',\n",
       "                                                   'Point_90', 'Point_198']),\n",
       "                                                 ('cat',\n",
       "                                                  Pipeline(steps=[('onehot',\n",
       "                                                                   OneHotEncoder(handle_unknown='ignore'))]),\n",
       "                                                  ['Point_10'])])),\n",
       "                ('model', RandomForestRegressor(random_state=3832))])</pre></div></div></div><div class=\"sk-serial\"><div class=\"sk-item sk-dashed-wrapped\"><div class=\"sk-label-container\"><div class=\"sk-label sk-toggleable\"><input class=\"sk-toggleable__control sk-hidden--visually\" id=\"ae5a1626-8359-4965-84cb-fd830e5d5145\" type=\"checkbox\" ><label class=\"sk-toggleable__label\" for=\"ae5a1626-8359-4965-84cb-fd830e5d5145\">preprocessor: ColumnTransformer</label><div class=\"sk-toggleable__content\"><pre>ColumnTransformer(transformers=[('num',\n",
       "                                 Pipeline(steps=[('scaler', StandardScaler())]),\n",
       "                                 ['Point_34', 'Point_17', 'Point_37',\n",
       "                                  'Point_21', 'Point_194', 'Point_26',\n",
       "                                  'Point_22', 'Point_9', 'Point_13', 'Point_23',\n",
       "                                  'Point_90', 'Point_198']),\n",
       "                                ('cat',\n",
       "                                 Pipeline(steps=[('onehot',\n",
       "                                                  OneHotEncoder(handle_unknown='ignore'))]),\n",
       "                                 ['Point_10'])])</pre></div></div></div><div class=\"sk-parallel\"><div class=\"sk-parallel-item\"><div class=\"sk-item\"><div class=\"sk-label-container\"><div class=\"sk-label sk-toggleable\"><input class=\"sk-toggleable__control sk-hidden--visually\" id=\"e13d75e3-6ec3-4e98-8a50-67b5b0c85146\" type=\"checkbox\" ><label class=\"sk-toggleable__label\" for=\"e13d75e3-6ec3-4e98-8a50-67b5b0c85146\">num</label><div class=\"sk-toggleable__content\"><pre>['Point_34', 'Point_17', 'Point_37', 'Point_21', 'Point_194', 'Point_26', 'Point_22', 'Point_9', 'Point_13', 'Point_23', 'Point_90', 'Point_198']</pre></div></div></div><div class=\"sk-serial\"><div class=\"sk-item\"><div class=\"sk-serial\"><div class=\"sk-item\"><div class=\"sk-estimator sk-toggleable\"><input class=\"sk-toggleable__control sk-hidden--visually\" id=\"6e63d364-154f-4123-abd5-a3081493cf72\" type=\"checkbox\" ><label class=\"sk-toggleable__label\" for=\"6e63d364-154f-4123-abd5-a3081493cf72\">StandardScaler</label><div class=\"sk-toggleable__content\"><pre>StandardScaler()</pre></div></div></div></div></div></div></div></div><div class=\"sk-parallel-item\"><div class=\"sk-item\"><div class=\"sk-label-container\"><div class=\"sk-label sk-toggleable\"><input class=\"sk-toggleable__control sk-hidden--visually\" id=\"7c48ed81-090b-4992-b3ca-d4482dee69d0\" type=\"checkbox\" ><label class=\"sk-toggleable__label\" for=\"7c48ed81-090b-4992-b3ca-d4482dee69d0\">cat</label><div class=\"sk-toggleable__content\"><pre>['Point_10']</pre></div></div></div><div class=\"sk-serial\"><div class=\"sk-item\"><div class=\"sk-serial\"><div class=\"sk-item\"><div class=\"sk-estimator sk-toggleable\"><input class=\"sk-toggleable__control sk-hidden--visually\" id=\"a6e9fd22-e2bd-47fc-9ab4-8a1c9469c850\" type=\"checkbox\" ><label class=\"sk-toggleable__label\" for=\"a6e9fd22-e2bd-47fc-9ab4-8a1c9469c850\">OneHotEncoder</label><div class=\"sk-toggleable__content\"><pre>OneHotEncoder(handle_unknown='ignore')</pre></div></div></div></div></div></div></div></div></div></div><div class=\"sk-item\"><div class=\"sk-estimator sk-toggleable\"><input class=\"sk-toggleable__control sk-hidden--visually\" id=\"cd5f7aa7-42b5-48e4-8a54-94c71dbbb0d0\" type=\"checkbox\" ><label class=\"sk-toggleable__label\" for=\"cd5f7aa7-42b5-48e4-8a54-94c71dbbb0d0\">RandomForestRegressor</label><div class=\"sk-toggleable__content\"><pre>RandomForestRegressor(random_state=3832)</pre></div></div></div></div></div></div></div>"
      ]
     },
     "metadata": {},
     "execution_count": 17
    }
   ],
   "metadata": {}
  },
  {
   "cell_type": "code",
   "execution_count": 18,
   "source": [
    "base_preds = pipeline.predict(X_test)"
   ],
   "outputs": [],
   "metadata": {}
  },
  {
   "cell_type": "code",
   "execution_count": 19,
   "source": [
    "print(pipeline.score(X_test,y_test))\n",
    "print(r2_score(y_test, base_preds))\n",
    "print(mean_absolute_error(y_test, base_preds))"
   ],
   "outputs": [
    {
     "output_type": "stream",
     "name": "stdout",
     "text": [
      "0.8907245085933027\n",
      "0.8907245085933027\n",
      "3.0675204451074887\n"
     ]
    }
   ],
   "metadata": {}
  },
  {
   "cell_type": "code",
   "execution_count": 20,
   "source": [
    "df_preds_comp = pd.DataFrame({'Actual':y_test, 'RF Predictions':base_preds})\n",
    "df_preds_comp"
   ],
   "outputs": [
    {
     "output_type": "execute_result",
     "data": {
      "text/plain": [
       "      Actual  RF Predictions\n",
       "4155    15.0          15.375\n",
       "5651    45.0          46.750\n",
       "8014    15.0          16.400\n",
       "6940    15.0          17.170\n",
       "1833    10.0          16.350\n",
       "...      ...             ...\n",
       "4280    35.0          38.800\n",
       "2494    15.0          13.875\n",
       "5297    40.0          44.750\n",
       "6513    40.0          31.450\n",
       "6176    20.0          18.650\n",
       "\n",
       "[2628 rows x 2 columns]"
      ],
      "text/html": [
       "<div>\n",
       "<style scoped>\n",
       "    .dataframe tbody tr th:only-of-type {\n",
       "        vertical-align: middle;\n",
       "    }\n",
       "\n",
       "    .dataframe tbody tr th {\n",
       "        vertical-align: top;\n",
       "    }\n",
       "\n",
       "    .dataframe thead th {\n",
       "        text-align: right;\n",
       "    }\n",
       "</style>\n",
       "<table border=\"1\" class=\"dataframe\">\n",
       "  <thead>\n",
       "    <tr style=\"text-align: right;\">\n",
       "      <th></th>\n",
       "      <th>Actual</th>\n",
       "      <th>RF Predictions</th>\n",
       "    </tr>\n",
       "  </thead>\n",
       "  <tbody>\n",
       "    <tr>\n",
       "      <th>4155</th>\n",
       "      <td>15.0</td>\n",
       "      <td>15.375</td>\n",
       "    </tr>\n",
       "    <tr>\n",
       "      <th>5651</th>\n",
       "      <td>45.0</td>\n",
       "      <td>46.750</td>\n",
       "    </tr>\n",
       "    <tr>\n",
       "      <th>8014</th>\n",
       "      <td>15.0</td>\n",
       "      <td>16.400</td>\n",
       "    </tr>\n",
       "    <tr>\n",
       "      <th>6940</th>\n",
       "      <td>15.0</td>\n",
       "      <td>17.170</td>\n",
       "    </tr>\n",
       "    <tr>\n",
       "      <th>1833</th>\n",
       "      <td>10.0</td>\n",
       "      <td>16.350</td>\n",
       "    </tr>\n",
       "    <tr>\n",
       "      <th>...</th>\n",
       "      <td>...</td>\n",
       "      <td>...</td>\n",
       "    </tr>\n",
       "    <tr>\n",
       "      <th>4280</th>\n",
       "      <td>35.0</td>\n",
       "      <td>38.800</td>\n",
       "    </tr>\n",
       "    <tr>\n",
       "      <th>2494</th>\n",
       "      <td>15.0</td>\n",
       "      <td>13.875</td>\n",
       "    </tr>\n",
       "    <tr>\n",
       "      <th>5297</th>\n",
       "      <td>40.0</td>\n",
       "      <td>44.750</td>\n",
       "    </tr>\n",
       "    <tr>\n",
       "      <th>6513</th>\n",
       "      <td>40.0</td>\n",
       "      <td>31.450</td>\n",
       "    </tr>\n",
       "    <tr>\n",
       "      <th>6176</th>\n",
       "      <td>20.0</td>\n",
       "      <td>18.650</td>\n",
       "    </tr>\n",
       "  </tbody>\n",
       "</table>\n",
       "<p>2628 rows × 2 columns</p>\n",
       "</div>"
      ]
     },
     "metadata": {},
     "execution_count": 20
    }
   ],
   "metadata": {}
  },
  {
   "cell_type": "code",
   "execution_count": 21,
   "source": [
    "# create array of feature importances from model\n",
    "rf_importances = pipeline.steps[1][1].feature_importances_\n",
    "rf_importances"
   ],
   "outputs": [
    {
     "output_type": "execute_result",
     "data": {
      "text/plain": [
       "array([0.05190957, 0.58045079, 0.01955496, 0.01644936, 0.03493333,\n",
       "       0.02088217, 0.01797624, 0.02885761, 0.0865464 , 0.01488981,\n",
       "       0.03048371, 0.02285741, 0.03661299, 0.03759565])"
      ]
     },
     "metadata": {},
     "execution_count": 21
    }
   ],
   "metadata": {}
  },
  {
   "cell_type": "code",
   "execution_count": 22,
   "source": [
    "# most important feature for this model is at index 1\n",
    "# this can be confirmed in feature importance plots below\n",
    "X_train.columns[1]"
   ],
   "outputs": [
    {
     "output_type": "execute_result",
     "data": {
      "text/plain": [
       "'Point_17'"
      ]
     },
     "metadata": {},
     "execution_count": 22
    }
   ],
   "metadata": {}
  },
  {
   "cell_type": "markdown",
   "source": [
    "## Gradient Boost"
   ],
   "metadata": {}
  },
  {
   "cell_type": "code",
   "execution_count": 23,
   "source": [
    "gb_pipeline = Pipeline(steps=[('preprocessor', preprocessor),\n",
    "                              ('model', gb_reg)])\n",
    "\n",
    "gb_pipeline.fit(X_train, y_train)"
   ],
   "outputs": [
    {
     "output_type": "execute_result",
     "data": {
      "text/plain": [
       "Pipeline(steps=[('preprocessor',\n",
       "                 ColumnTransformer(transformers=[('num',\n",
       "                                                  Pipeline(steps=[('scaler',\n",
       "                                                                   StandardScaler())]),\n",
       "                                                  ['Point_34', 'Point_17',\n",
       "                                                   'Point_37', 'Point_21',\n",
       "                                                   'Point_194', 'Point_26',\n",
       "                                                   'Point_22', 'Point_9',\n",
       "                                                   'Point_13', 'Point_23',\n",
       "                                                   'Point_90', 'Point_198']),\n",
       "                                                 ('cat',\n",
       "                                                  Pipeline(steps=[('onehot',\n",
       "                                                                   OneHotEncoder(handle_unknown='ignore'))]),\n",
       "                                                  ['Point_10'])])),\n",
       "                ('model', GradientBoostingRegressor(random_state=3832))])"
      ],
      "text/html": [
       "<style>div.sk-top-container {color: black;background-color: white;}div.sk-toggleable {background-color: white;}label.sk-toggleable__label {cursor: pointer;display: block;width: 100%;margin-bottom: 0;padding: 0.2em 0.3em;box-sizing: border-box;text-align: center;}div.sk-toggleable__content {max-height: 0;max-width: 0;overflow: hidden;text-align: left;background-color: #f0f8ff;}div.sk-toggleable__content pre {margin: 0.2em;color: black;border-radius: 0.25em;background-color: #f0f8ff;}input.sk-toggleable__control:checked~div.sk-toggleable__content {max-height: 200px;max-width: 100%;overflow: auto;}div.sk-estimator input.sk-toggleable__control:checked~label.sk-toggleable__label {background-color: #d4ebff;}div.sk-label input.sk-toggleable__control:checked~label.sk-toggleable__label {background-color: #d4ebff;}input.sk-hidden--visually {border: 0;clip: rect(1px 1px 1px 1px);clip: rect(1px, 1px, 1px, 1px);height: 1px;margin: -1px;overflow: hidden;padding: 0;position: absolute;width: 1px;}div.sk-estimator {font-family: monospace;background-color: #f0f8ff;margin: 0.25em 0.25em;border: 1px dotted black;border-radius: 0.25em;box-sizing: border-box;}div.sk-estimator:hover {background-color: #d4ebff;}div.sk-parallel-item::after {content: \"\";width: 100%;border-bottom: 1px solid gray;flex-grow: 1;}div.sk-label:hover label.sk-toggleable__label {background-color: #d4ebff;}div.sk-serial::before {content: \"\";position: absolute;border-left: 1px solid gray;box-sizing: border-box;top: 2em;bottom: 0;left: 50%;}div.sk-serial {display: flex;flex-direction: column;align-items: center;background-color: white;}div.sk-item {z-index: 1;}div.sk-parallel {display: flex;align-items: stretch;justify-content: center;background-color: white;}div.sk-parallel-item {display: flex;flex-direction: column;position: relative;background-color: white;}div.sk-parallel-item:first-child::after {align-self: flex-end;width: 50%;}div.sk-parallel-item:last-child::after {align-self: flex-start;width: 50%;}div.sk-parallel-item:only-child::after {width: 0;}div.sk-dashed-wrapped {border: 1px dashed gray;margin: 0.2em;box-sizing: border-box;padding-bottom: 0.1em;background-color: white;position: relative;}div.sk-label label {font-family: monospace;font-weight: bold;background-color: white;display: inline-block;line-height: 1.2em;}div.sk-label-container {position: relative;z-index: 2;text-align: center;}div.sk-container {display: inline-block;position: relative;}</style><div class=\"sk-top-container\"><div class=\"sk-container\"><div class=\"sk-item sk-dashed-wrapped\"><div class=\"sk-label-container\"><div class=\"sk-label sk-toggleable\"><input class=\"sk-toggleable__control sk-hidden--visually\" id=\"29d2de20-5007-40db-9d76-f909eac73041\" type=\"checkbox\" ><label class=\"sk-toggleable__label\" for=\"29d2de20-5007-40db-9d76-f909eac73041\">Pipeline</label><div class=\"sk-toggleable__content\"><pre>Pipeline(steps=[('preprocessor',\n",
       "                 ColumnTransformer(transformers=[('num',\n",
       "                                                  Pipeline(steps=[('scaler',\n",
       "                                                                   StandardScaler())]),\n",
       "                                                  ['Point_34', 'Point_17',\n",
       "                                                   'Point_37', 'Point_21',\n",
       "                                                   'Point_194', 'Point_26',\n",
       "                                                   'Point_22', 'Point_9',\n",
       "                                                   'Point_13', 'Point_23',\n",
       "                                                   'Point_90', 'Point_198']),\n",
       "                                                 ('cat',\n",
       "                                                  Pipeline(steps=[('onehot',\n",
       "                                                                   OneHotEncoder(handle_unknown='ignore'))]),\n",
       "                                                  ['Point_10'])])),\n",
       "                ('model', GradientBoostingRegressor(random_state=3832))])</pre></div></div></div><div class=\"sk-serial\"><div class=\"sk-item sk-dashed-wrapped\"><div class=\"sk-label-container\"><div class=\"sk-label sk-toggleable\"><input class=\"sk-toggleable__control sk-hidden--visually\" id=\"18413cdf-a071-4d71-b4cb-3adb41e5f4ee\" type=\"checkbox\" ><label class=\"sk-toggleable__label\" for=\"18413cdf-a071-4d71-b4cb-3adb41e5f4ee\">preprocessor: ColumnTransformer</label><div class=\"sk-toggleable__content\"><pre>ColumnTransformer(transformers=[('num',\n",
       "                                 Pipeline(steps=[('scaler', StandardScaler())]),\n",
       "                                 ['Point_34', 'Point_17', 'Point_37',\n",
       "                                  'Point_21', 'Point_194', 'Point_26',\n",
       "                                  'Point_22', 'Point_9', 'Point_13', 'Point_23',\n",
       "                                  'Point_90', 'Point_198']),\n",
       "                                ('cat',\n",
       "                                 Pipeline(steps=[('onehot',\n",
       "                                                  OneHotEncoder(handle_unknown='ignore'))]),\n",
       "                                 ['Point_10'])])</pre></div></div></div><div class=\"sk-parallel\"><div class=\"sk-parallel-item\"><div class=\"sk-item\"><div class=\"sk-label-container\"><div class=\"sk-label sk-toggleable\"><input class=\"sk-toggleable__control sk-hidden--visually\" id=\"5cc0f17b-778b-4b1a-a0f1-2d5425f6cd85\" type=\"checkbox\" ><label class=\"sk-toggleable__label\" for=\"5cc0f17b-778b-4b1a-a0f1-2d5425f6cd85\">num</label><div class=\"sk-toggleable__content\"><pre>['Point_34', 'Point_17', 'Point_37', 'Point_21', 'Point_194', 'Point_26', 'Point_22', 'Point_9', 'Point_13', 'Point_23', 'Point_90', 'Point_198']</pre></div></div></div><div class=\"sk-serial\"><div class=\"sk-item\"><div class=\"sk-serial\"><div class=\"sk-item\"><div class=\"sk-estimator sk-toggleable\"><input class=\"sk-toggleable__control sk-hidden--visually\" id=\"a0fdc560-5760-493c-8ede-f4bc490f243b\" type=\"checkbox\" ><label class=\"sk-toggleable__label\" for=\"a0fdc560-5760-493c-8ede-f4bc490f243b\">StandardScaler</label><div class=\"sk-toggleable__content\"><pre>StandardScaler()</pre></div></div></div></div></div></div></div></div><div class=\"sk-parallel-item\"><div class=\"sk-item\"><div class=\"sk-label-container\"><div class=\"sk-label sk-toggleable\"><input class=\"sk-toggleable__control sk-hidden--visually\" id=\"6f770517-e8db-4057-8e0f-944868b2e7ba\" type=\"checkbox\" ><label class=\"sk-toggleable__label\" for=\"6f770517-e8db-4057-8e0f-944868b2e7ba\">cat</label><div class=\"sk-toggleable__content\"><pre>['Point_10']</pre></div></div></div><div class=\"sk-serial\"><div class=\"sk-item\"><div class=\"sk-serial\"><div class=\"sk-item\"><div class=\"sk-estimator sk-toggleable\"><input class=\"sk-toggleable__control sk-hidden--visually\" id=\"51a19533-a215-4b09-aafd-126aa6ad5117\" type=\"checkbox\" ><label class=\"sk-toggleable__label\" for=\"51a19533-a215-4b09-aafd-126aa6ad5117\">OneHotEncoder</label><div class=\"sk-toggleable__content\"><pre>OneHotEncoder(handle_unknown='ignore')</pre></div></div></div></div></div></div></div></div></div></div><div class=\"sk-item\"><div class=\"sk-estimator sk-toggleable\"><input class=\"sk-toggleable__control sk-hidden--visually\" id=\"495be27a-0af2-41f8-b2f9-bf8b3ab207bc\" type=\"checkbox\" ><label class=\"sk-toggleable__label\" for=\"495be27a-0af2-41f8-b2f9-bf8b3ab207bc\">GradientBoostingRegressor</label><div class=\"sk-toggleable__content\"><pre>GradientBoostingRegressor(random_state=3832)</pre></div></div></div></div></div></div></div>"
      ]
     },
     "metadata": {},
     "execution_count": 23
    }
   ],
   "metadata": {}
  },
  {
   "cell_type": "code",
   "execution_count": 24,
   "source": [
    "gb_preds = gb_pipeline.predict(X_test)"
   ],
   "outputs": [],
   "metadata": {}
  },
  {
   "cell_type": "code",
   "execution_count": 25,
   "source": [
    "print(gb_pipeline.score(X_test,y_test))\n",
    "print(r2_score(y_test, gb_preds))\n",
    "print(mean_absolute_error(y_test, gb_preds))"
   ],
   "outputs": [
    {
     "output_type": "stream",
     "name": "stdout",
     "text": [
      "0.8683967029429782\n",
      "0.8683967029429782\n",
      "3.3600843679984598\n"
     ]
    }
   ],
   "metadata": {}
  },
  {
   "cell_type": "code",
   "execution_count": 26,
   "source": [
    "gb_importances = gb_pipeline.steps[1][1].feature_importances_\n",
    "gb_importances"
   ],
   "outputs": [
    {
     "output_type": "execute_result",
     "data": {
      "text/plain": [
       "array([0.02244423, 0.5786809 , 0.01270807, 0.01308699, 0.04145666,\n",
       "       0.04737787, 0.01024294, 0.01860166, 0.04956945, 0.00470696,\n",
       "       0.01190293, 0.01545216, 0.11407613, 0.05969306])"
      ]
     },
     "metadata": {},
     "execution_count": 26
    }
   ],
   "metadata": {}
  },
  {
   "cell_type": "markdown",
   "source": [
    "## XG Boost"
   ],
   "metadata": {}
  },
  {
   "cell_type": "code",
   "execution_count": 27,
   "source": [
    "xgb_pipeline = Pipeline(steps=[('preprocessor', preprocessor),\n",
    "                               ('model', xgboost)])\n",
    "\n",
    "xgb_pipeline.fit(X_train, y_train)"
   ],
   "outputs": [
    {
     "output_type": "execute_result",
     "data": {
      "text/plain": [
       "Pipeline(steps=[('preprocessor',\n",
       "                 ColumnTransformer(transformers=[('num',\n",
       "                                                  Pipeline(steps=[('scaler',\n",
       "                                                                   StandardScaler())]),\n",
       "                                                  ['Point_34', 'Point_17',\n",
       "                                                   'Point_37', 'Point_21',\n",
       "                                                   'Point_194', 'Point_26',\n",
       "                                                   'Point_22', 'Point_9',\n",
       "                                                   'Point_13', 'Point_23',\n",
       "                                                   'Point_90', 'Point_198']),\n",
       "                                                 ('cat',\n",
       "                                                  Pipeline(steps=[('onehot',\n",
       "                                                                   OneHotEncoder(handle_unknown='ignore'))]),\n",
       "                                                  ['Point_10'])])),\n",
       "                ('mod...\n",
       "                              colsample_bytree=1, gamma=0, gpu_id=-1,\n",
       "                              importance_type='gain',\n",
       "                              interaction_constraints='',\n",
       "                              learning_rate=0.300000012, max_delta_step=0,\n",
       "                              max_depth=6, min_child_weight=1, missing=nan,\n",
       "                              monotone_constraints='()', n_estimators=100,\n",
       "                              n_jobs=12, num_parallel_tree=1, random_state=0,\n",
       "                              reg_alpha=0, reg_lambda=1, scale_pos_weight=1,\n",
       "                              subsample=1, tree_method='exact',\n",
       "                              validate_parameters=1, verbosity=None))])"
      ],
      "text/html": [
       "<style>div.sk-top-container {color: black;background-color: white;}div.sk-toggleable {background-color: white;}label.sk-toggleable__label {cursor: pointer;display: block;width: 100%;margin-bottom: 0;padding: 0.2em 0.3em;box-sizing: border-box;text-align: center;}div.sk-toggleable__content {max-height: 0;max-width: 0;overflow: hidden;text-align: left;background-color: #f0f8ff;}div.sk-toggleable__content pre {margin: 0.2em;color: black;border-radius: 0.25em;background-color: #f0f8ff;}input.sk-toggleable__control:checked~div.sk-toggleable__content {max-height: 200px;max-width: 100%;overflow: auto;}div.sk-estimator input.sk-toggleable__control:checked~label.sk-toggleable__label {background-color: #d4ebff;}div.sk-label input.sk-toggleable__control:checked~label.sk-toggleable__label {background-color: #d4ebff;}input.sk-hidden--visually {border: 0;clip: rect(1px 1px 1px 1px);clip: rect(1px, 1px, 1px, 1px);height: 1px;margin: -1px;overflow: hidden;padding: 0;position: absolute;width: 1px;}div.sk-estimator {font-family: monospace;background-color: #f0f8ff;margin: 0.25em 0.25em;border: 1px dotted black;border-radius: 0.25em;box-sizing: border-box;}div.sk-estimator:hover {background-color: #d4ebff;}div.sk-parallel-item::after {content: \"\";width: 100%;border-bottom: 1px solid gray;flex-grow: 1;}div.sk-label:hover label.sk-toggleable__label {background-color: #d4ebff;}div.sk-serial::before {content: \"\";position: absolute;border-left: 1px solid gray;box-sizing: border-box;top: 2em;bottom: 0;left: 50%;}div.sk-serial {display: flex;flex-direction: column;align-items: center;background-color: white;}div.sk-item {z-index: 1;}div.sk-parallel {display: flex;align-items: stretch;justify-content: center;background-color: white;}div.sk-parallel-item {display: flex;flex-direction: column;position: relative;background-color: white;}div.sk-parallel-item:first-child::after {align-self: flex-end;width: 50%;}div.sk-parallel-item:last-child::after {align-self: flex-start;width: 50%;}div.sk-parallel-item:only-child::after {width: 0;}div.sk-dashed-wrapped {border: 1px dashed gray;margin: 0.2em;box-sizing: border-box;padding-bottom: 0.1em;background-color: white;position: relative;}div.sk-label label {font-family: monospace;font-weight: bold;background-color: white;display: inline-block;line-height: 1.2em;}div.sk-label-container {position: relative;z-index: 2;text-align: center;}div.sk-container {display: inline-block;position: relative;}</style><div class=\"sk-top-container\"><div class=\"sk-container\"><div class=\"sk-item sk-dashed-wrapped\"><div class=\"sk-label-container\"><div class=\"sk-label sk-toggleable\"><input class=\"sk-toggleable__control sk-hidden--visually\" id=\"28533f21-d9b4-4198-a313-eb4d23da28a3\" type=\"checkbox\" ><label class=\"sk-toggleable__label\" for=\"28533f21-d9b4-4198-a313-eb4d23da28a3\">Pipeline</label><div class=\"sk-toggleable__content\"><pre>Pipeline(steps=[('preprocessor',\n",
       "                 ColumnTransformer(transformers=[('num',\n",
       "                                                  Pipeline(steps=[('scaler',\n",
       "                                                                   StandardScaler())]),\n",
       "                                                  ['Point_34', 'Point_17',\n",
       "                                                   'Point_37', 'Point_21',\n",
       "                                                   'Point_194', 'Point_26',\n",
       "                                                   'Point_22', 'Point_9',\n",
       "                                                   'Point_13', 'Point_23',\n",
       "                                                   'Point_90', 'Point_198']),\n",
       "                                                 ('cat',\n",
       "                                                  Pipeline(steps=[('onehot',\n",
       "                                                                   OneHotEncoder(handle_unknown='ignore'))]),\n",
       "                                                  ['Point_10'])])),\n",
       "                ('mod...\n",
       "                              colsample_bytree=1, gamma=0, gpu_id=-1,\n",
       "                              importance_type='gain',\n",
       "                              interaction_constraints='',\n",
       "                              learning_rate=0.300000012, max_delta_step=0,\n",
       "                              max_depth=6, min_child_weight=1, missing=nan,\n",
       "                              monotone_constraints='()', n_estimators=100,\n",
       "                              n_jobs=12, num_parallel_tree=1, random_state=0,\n",
       "                              reg_alpha=0, reg_lambda=1, scale_pos_weight=1,\n",
       "                              subsample=1, tree_method='exact',\n",
       "                              validate_parameters=1, verbosity=None))])</pre></div></div></div><div class=\"sk-serial\"><div class=\"sk-item sk-dashed-wrapped\"><div class=\"sk-label-container\"><div class=\"sk-label sk-toggleable\"><input class=\"sk-toggleable__control sk-hidden--visually\" id=\"5b36e54b-3c58-4220-be9b-8bd269bdbdb6\" type=\"checkbox\" ><label class=\"sk-toggleable__label\" for=\"5b36e54b-3c58-4220-be9b-8bd269bdbdb6\">preprocessor: ColumnTransformer</label><div class=\"sk-toggleable__content\"><pre>ColumnTransformer(transformers=[('num',\n",
       "                                 Pipeline(steps=[('scaler', StandardScaler())]),\n",
       "                                 ['Point_34', 'Point_17', 'Point_37',\n",
       "                                  'Point_21', 'Point_194', 'Point_26',\n",
       "                                  'Point_22', 'Point_9', 'Point_13', 'Point_23',\n",
       "                                  'Point_90', 'Point_198']),\n",
       "                                ('cat',\n",
       "                                 Pipeline(steps=[('onehot',\n",
       "                                                  OneHotEncoder(handle_unknown='ignore'))]),\n",
       "                                 ['Point_10'])])</pre></div></div></div><div class=\"sk-parallel\"><div class=\"sk-parallel-item\"><div class=\"sk-item\"><div class=\"sk-label-container\"><div class=\"sk-label sk-toggleable\"><input class=\"sk-toggleable__control sk-hidden--visually\" id=\"12e825d2-bbdd-4aec-8eb1-1aa12d96feec\" type=\"checkbox\" ><label class=\"sk-toggleable__label\" for=\"12e825d2-bbdd-4aec-8eb1-1aa12d96feec\">num</label><div class=\"sk-toggleable__content\"><pre>['Point_34', 'Point_17', 'Point_37', 'Point_21', 'Point_194', 'Point_26', 'Point_22', 'Point_9', 'Point_13', 'Point_23', 'Point_90', 'Point_198']</pre></div></div></div><div class=\"sk-serial\"><div class=\"sk-item\"><div class=\"sk-serial\"><div class=\"sk-item\"><div class=\"sk-estimator sk-toggleable\"><input class=\"sk-toggleable__control sk-hidden--visually\" id=\"f032b3e5-327b-44c0-a080-03bfdfc4de14\" type=\"checkbox\" ><label class=\"sk-toggleable__label\" for=\"f032b3e5-327b-44c0-a080-03bfdfc4de14\">StandardScaler</label><div class=\"sk-toggleable__content\"><pre>StandardScaler()</pre></div></div></div></div></div></div></div></div><div class=\"sk-parallel-item\"><div class=\"sk-item\"><div class=\"sk-label-container\"><div class=\"sk-label sk-toggleable\"><input class=\"sk-toggleable__control sk-hidden--visually\" id=\"82819339-52c5-4687-8aca-a436026f2a86\" type=\"checkbox\" ><label class=\"sk-toggleable__label\" for=\"82819339-52c5-4687-8aca-a436026f2a86\">cat</label><div class=\"sk-toggleable__content\"><pre>['Point_10']</pre></div></div></div><div class=\"sk-serial\"><div class=\"sk-item\"><div class=\"sk-serial\"><div class=\"sk-item\"><div class=\"sk-estimator sk-toggleable\"><input class=\"sk-toggleable__control sk-hidden--visually\" id=\"388c1e44-cca8-40f3-a584-2de85c761920\" type=\"checkbox\" ><label class=\"sk-toggleable__label\" for=\"388c1e44-cca8-40f3-a584-2de85c761920\">OneHotEncoder</label><div class=\"sk-toggleable__content\"><pre>OneHotEncoder(handle_unknown='ignore')</pre></div></div></div></div></div></div></div></div></div></div><div class=\"sk-item\"><div class=\"sk-estimator sk-toggleable\"><input class=\"sk-toggleable__control sk-hidden--visually\" id=\"4ed12c3f-25d6-46a9-bc80-a310420b3d60\" type=\"checkbox\" ><label class=\"sk-toggleable__label\" for=\"4ed12c3f-25d6-46a9-bc80-a310420b3d60\">XGBRegressor</label><div class=\"sk-toggleable__content\"><pre>XGBRegressor(base_score=0.5, booster='gbtree', colsample_bylevel=1,\n",
       "             colsample_bynode=1, colsample_bytree=1, gamma=0, gpu_id=-1,\n",
       "             importance_type='gain', interaction_constraints='',\n",
       "             learning_rate=0.300000012, max_delta_step=0, max_depth=6,\n",
       "             min_child_weight=1, missing=nan, monotone_constraints='()',\n",
       "             n_estimators=100, n_jobs=12, num_parallel_tree=1, random_state=0,\n",
       "             reg_alpha=0, reg_lambda=1, scale_pos_weight=1, subsample=1,\n",
       "             tree_method='exact', validate_parameters=1, verbosity=None)</pre></div></div></div></div></div></div></div>"
      ]
     },
     "metadata": {},
     "execution_count": 27
    }
   ],
   "metadata": {}
  },
  {
   "cell_type": "code",
   "execution_count": 28,
   "source": [
    "xgb_preds = xgb_pipeline.predict(X_test)"
   ],
   "outputs": [],
   "metadata": {}
  },
  {
   "cell_type": "code",
   "execution_count": 29,
   "source": [
    "print(xgb_pipeline.score(X_test,y_test))\n",
    "print(r2_score(y_test, xgb_preds))\n",
    "print(mean_absolute_error(y_test, xgb_preds))"
   ],
   "outputs": [
    {
     "output_type": "stream",
     "name": "stdout",
     "text": [
      "0.8860204799641516\n",
      "0.8860204799641516\n",
      "3.1855676104307538\n"
     ]
    }
   ],
   "metadata": {}
  },
  {
   "cell_type": "code",
   "execution_count": 30,
   "source": [
    "xgb_importances = xgb_pipeline.steps[1][1].feature_importances_\n",
    "xgb_importances"
   ],
   "outputs": [
    {
     "output_type": "execute_result",
     "data": {
      "text/plain": [
       "array([0.01844553, 0.31146464, 0.0083233 , 0.00934833, 0.01610236,\n",
       "       0.01457933, 0.0105266 , 0.02359586, 0.00973602, 0.00939979,\n",
       "       0.01282904, 0.01076541, 0.54488385, 0.        ], dtype=float32)"
      ]
     },
     "metadata": {},
     "execution_count": 30
    }
   ],
   "metadata": {}
  },
  {
   "cell_type": "markdown",
   "source": [
    "## Light GBM"
   ],
   "metadata": {}
  },
  {
   "cell_type": "code",
   "execution_count": 31,
   "source": [
    "lgb_pipeline = Pipeline(steps=[('preprocessor', preprocessor),\n",
    "                               ('model', lgboost)])\n",
    "\n",
    "lgb_pipeline.fit(X_train, y_train)"
   ],
   "outputs": [
    {
     "output_type": "execute_result",
     "data": {
      "text/plain": [
       "Pipeline(steps=[('preprocessor',\n",
       "                 ColumnTransformer(transformers=[('num',\n",
       "                                                  Pipeline(steps=[('scaler',\n",
       "                                                                   StandardScaler())]),\n",
       "                                                  ['Point_34', 'Point_17',\n",
       "                                                   'Point_37', 'Point_21',\n",
       "                                                   'Point_194', 'Point_26',\n",
       "                                                   'Point_22', 'Point_9',\n",
       "                                                   'Point_13', 'Point_23',\n",
       "                                                   'Point_90', 'Point_198']),\n",
       "                                                 ('cat',\n",
       "                                                  Pipeline(steps=[('onehot',\n",
       "                                                                   OneHotEncoder(handle_unknown='ignore'))]),\n",
       "                                                  ['Point_10'])])),\n",
       "                ('model',\n",
       "                 LGBMRegressor(random_state=3832, reg_alpha=0, reg_lambda=0))])"
      ],
      "text/html": [
       "<style>div.sk-top-container {color: black;background-color: white;}div.sk-toggleable {background-color: white;}label.sk-toggleable__label {cursor: pointer;display: block;width: 100%;margin-bottom: 0;padding: 0.2em 0.3em;box-sizing: border-box;text-align: center;}div.sk-toggleable__content {max-height: 0;max-width: 0;overflow: hidden;text-align: left;background-color: #f0f8ff;}div.sk-toggleable__content pre {margin: 0.2em;color: black;border-radius: 0.25em;background-color: #f0f8ff;}input.sk-toggleable__control:checked~div.sk-toggleable__content {max-height: 200px;max-width: 100%;overflow: auto;}div.sk-estimator input.sk-toggleable__control:checked~label.sk-toggleable__label {background-color: #d4ebff;}div.sk-label input.sk-toggleable__control:checked~label.sk-toggleable__label {background-color: #d4ebff;}input.sk-hidden--visually {border: 0;clip: rect(1px 1px 1px 1px);clip: rect(1px, 1px, 1px, 1px);height: 1px;margin: -1px;overflow: hidden;padding: 0;position: absolute;width: 1px;}div.sk-estimator {font-family: monospace;background-color: #f0f8ff;margin: 0.25em 0.25em;border: 1px dotted black;border-radius: 0.25em;box-sizing: border-box;}div.sk-estimator:hover {background-color: #d4ebff;}div.sk-parallel-item::after {content: \"\";width: 100%;border-bottom: 1px solid gray;flex-grow: 1;}div.sk-label:hover label.sk-toggleable__label {background-color: #d4ebff;}div.sk-serial::before {content: \"\";position: absolute;border-left: 1px solid gray;box-sizing: border-box;top: 2em;bottom: 0;left: 50%;}div.sk-serial {display: flex;flex-direction: column;align-items: center;background-color: white;}div.sk-item {z-index: 1;}div.sk-parallel {display: flex;align-items: stretch;justify-content: center;background-color: white;}div.sk-parallel-item {display: flex;flex-direction: column;position: relative;background-color: white;}div.sk-parallel-item:first-child::after {align-self: flex-end;width: 50%;}div.sk-parallel-item:last-child::after {align-self: flex-start;width: 50%;}div.sk-parallel-item:only-child::after {width: 0;}div.sk-dashed-wrapped {border: 1px dashed gray;margin: 0.2em;box-sizing: border-box;padding-bottom: 0.1em;background-color: white;position: relative;}div.sk-label label {font-family: monospace;font-weight: bold;background-color: white;display: inline-block;line-height: 1.2em;}div.sk-label-container {position: relative;z-index: 2;text-align: center;}div.sk-container {display: inline-block;position: relative;}</style><div class=\"sk-top-container\"><div class=\"sk-container\"><div class=\"sk-item sk-dashed-wrapped\"><div class=\"sk-label-container\"><div class=\"sk-label sk-toggleable\"><input class=\"sk-toggleable__control sk-hidden--visually\" id=\"fb882d1d-1697-48bc-8b98-b6ff5e3bf2cb\" type=\"checkbox\" ><label class=\"sk-toggleable__label\" for=\"fb882d1d-1697-48bc-8b98-b6ff5e3bf2cb\">Pipeline</label><div class=\"sk-toggleable__content\"><pre>Pipeline(steps=[('preprocessor',\n",
       "                 ColumnTransformer(transformers=[('num',\n",
       "                                                  Pipeline(steps=[('scaler',\n",
       "                                                                   StandardScaler())]),\n",
       "                                                  ['Point_34', 'Point_17',\n",
       "                                                   'Point_37', 'Point_21',\n",
       "                                                   'Point_194', 'Point_26',\n",
       "                                                   'Point_22', 'Point_9',\n",
       "                                                   'Point_13', 'Point_23',\n",
       "                                                   'Point_90', 'Point_198']),\n",
       "                                                 ('cat',\n",
       "                                                  Pipeline(steps=[('onehot',\n",
       "                                                                   OneHotEncoder(handle_unknown='ignore'))]),\n",
       "                                                  ['Point_10'])])),\n",
       "                ('model',\n",
       "                 LGBMRegressor(random_state=3832, reg_alpha=0, reg_lambda=0))])</pre></div></div></div><div class=\"sk-serial\"><div class=\"sk-item sk-dashed-wrapped\"><div class=\"sk-label-container\"><div class=\"sk-label sk-toggleable\"><input class=\"sk-toggleable__control sk-hidden--visually\" id=\"8ba0cd4b-fd1a-46a3-9936-b39cd5b2976d\" type=\"checkbox\" ><label class=\"sk-toggleable__label\" for=\"8ba0cd4b-fd1a-46a3-9936-b39cd5b2976d\">preprocessor: ColumnTransformer</label><div class=\"sk-toggleable__content\"><pre>ColumnTransformer(transformers=[('num',\n",
       "                                 Pipeline(steps=[('scaler', StandardScaler())]),\n",
       "                                 ['Point_34', 'Point_17', 'Point_37',\n",
       "                                  'Point_21', 'Point_194', 'Point_26',\n",
       "                                  'Point_22', 'Point_9', 'Point_13', 'Point_23',\n",
       "                                  'Point_90', 'Point_198']),\n",
       "                                ('cat',\n",
       "                                 Pipeline(steps=[('onehot',\n",
       "                                                  OneHotEncoder(handle_unknown='ignore'))]),\n",
       "                                 ['Point_10'])])</pre></div></div></div><div class=\"sk-parallel\"><div class=\"sk-parallel-item\"><div class=\"sk-item\"><div class=\"sk-label-container\"><div class=\"sk-label sk-toggleable\"><input class=\"sk-toggleable__control sk-hidden--visually\" id=\"fba845fe-287e-433b-9bf3-396d0498f0c1\" type=\"checkbox\" ><label class=\"sk-toggleable__label\" for=\"fba845fe-287e-433b-9bf3-396d0498f0c1\">num</label><div class=\"sk-toggleable__content\"><pre>['Point_34', 'Point_17', 'Point_37', 'Point_21', 'Point_194', 'Point_26', 'Point_22', 'Point_9', 'Point_13', 'Point_23', 'Point_90', 'Point_198']</pre></div></div></div><div class=\"sk-serial\"><div class=\"sk-item\"><div class=\"sk-serial\"><div class=\"sk-item\"><div class=\"sk-estimator sk-toggleable\"><input class=\"sk-toggleable__control sk-hidden--visually\" id=\"eef85f2a-c674-4d4d-967b-050b89df8779\" type=\"checkbox\" ><label class=\"sk-toggleable__label\" for=\"eef85f2a-c674-4d4d-967b-050b89df8779\">StandardScaler</label><div class=\"sk-toggleable__content\"><pre>StandardScaler()</pre></div></div></div></div></div></div></div></div><div class=\"sk-parallel-item\"><div class=\"sk-item\"><div class=\"sk-label-container\"><div class=\"sk-label sk-toggleable\"><input class=\"sk-toggleable__control sk-hidden--visually\" id=\"59bca44d-59ff-4af0-9554-4d19c8218e29\" type=\"checkbox\" ><label class=\"sk-toggleable__label\" for=\"59bca44d-59ff-4af0-9554-4d19c8218e29\">cat</label><div class=\"sk-toggleable__content\"><pre>['Point_10']</pre></div></div></div><div class=\"sk-serial\"><div class=\"sk-item\"><div class=\"sk-serial\"><div class=\"sk-item\"><div class=\"sk-estimator sk-toggleable\"><input class=\"sk-toggleable__control sk-hidden--visually\" id=\"f8a478d4-46f9-4ac4-840d-2f54a2bf2726\" type=\"checkbox\" ><label class=\"sk-toggleable__label\" for=\"f8a478d4-46f9-4ac4-840d-2f54a2bf2726\">OneHotEncoder</label><div class=\"sk-toggleable__content\"><pre>OneHotEncoder(handle_unknown='ignore')</pre></div></div></div></div></div></div></div></div></div></div><div class=\"sk-item\"><div class=\"sk-estimator sk-toggleable\"><input class=\"sk-toggleable__control sk-hidden--visually\" id=\"46080219-90a2-46ac-b6bd-a58b4650d4c5\" type=\"checkbox\" ><label class=\"sk-toggleable__label\" for=\"46080219-90a2-46ac-b6bd-a58b4650d4c5\">LGBMRegressor</label><div class=\"sk-toggleable__content\"><pre>LGBMRegressor(random_state=3832, reg_alpha=0, reg_lambda=0)</pre></div></div></div></div></div></div></div>"
      ]
     },
     "metadata": {},
     "execution_count": 31
    }
   ],
   "metadata": {}
  },
  {
   "cell_type": "code",
   "execution_count": 32,
   "source": [
    "lgb_preds = lgb_pipeline.predict(X_test)"
   ],
   "outputs": [],
   "metadata": {}
  },
  {
   "cell_type": "code",
   "execution_count": 33,
   "source": [
    "print(lgb_pipeline.score(X_test,y_test))\n",
    "print(r2_score(y_test, lgb_preds))\n",
    "print(mean_absolute_error(y_test, lgb_preds))"
   ],
   "outputs": [
    {
     "output_type": "stream",
     "name": "stdout",
     "text": [
      "0.8898960255290922\n",
      "0.8898960255290922\n",
      "3.0510283400997626\n"
     ]
    }
   ],
   "metadata": {}
  },
  {
   "cell_type": "code",
   "execution_count": 34,
   "source": [
    "lgb_importances = lgb_pipeline.steps[1][1].feature_importances_\n",
    "lgb_importances"
   ],
   "outputs": [
    {
     "output_type": "execute_result",
     "data": {
      "text/plain": [
       "array([196, 251, 269, 294, 241, 263, 270, 168, 212, 199, 368, 232,  37,\n",
       "         0], dtype=int32)"
      ]
     },
     "metadata": {},
     "execution_count": 34
    }
   ],
   "metadata": {}
  },
  {
   "cell_type": "markdown",
   "source": [
    "#### Model Persistence"
   ],
   "metadata": {}
  },
  {
   "cell_type": "code",
   "execution_count": 35,
   "source": [
    "# save model for deployment\n",
    "\n",
    "# iteration 1 model\n",
    "# filename = 'lgb_model.sav'\n",
    "# pickle.dump(lgb_pipeline, open(filename, 'wb'))"
   ],
   "outputs": [],
   "metadata": {}
  },
  {
   "cell_type": "code",
   "execution_count": 36,
   "source": [
    "# iteration 2 model\n",
    "# filename = 'lgb_model_v2.sav'\n",
    "# pickle.dump(lgb_pipeline, open(filename, 'wb'))"
   ],
   "outputs": [],
   "metadata": {}
  },
  {
   "cell_type": "code",
   "execution_count": 37,
   "source": [
    "# to load model when required\n",
    "#loaded_model = pickle.load(open(filename, 'wb'))"
   ],
   "outputs": [],
   "metadata": {}
  },
  {
   "cell_type": "markdown",
   "source": [
    "## Feature Importance Visualization"
   ],
   "metadata": {}
  },
  {
   "cell_type": "code",
   "execution_count": 38,
   "source": [
    "import matplotlib.pyplot as plt\n",
    "import seaborn as sns\n",
    "sns.set_theme(style=\"whitegrid\")"
   ],
   "outputs": [],
   "metadata": {}
  },
  {
   "cell_type": "code",
   "execution_count": 39,
   "source": [
    "def plot_feature_importance(importance,names,model_type):\n",
    "    #Create feature importance and names arrays\n",
    "    feature_importance = np.array(importance)\n",
    "    feature_names = np.array(names)\n",
    "\n",
    "    #Create DataFrame\n",
    "    data={'feature_names':feature_names,'feature_importance':feature_importance}\n",
    "    fi_df = pd.DataFrame(data)\n",
    "\n",
    "    #Sort DataFrame in order of feature importance (highest to lowest)\n",
    "    fi_df.sort_values(by=['feature_importance'], ascending=False, inplace=True)\n",
    "\n",
    "    # Create bar chart\n",
    "    plt.figure(figsize=(10,8))\n",
    "    sns.barplot(x=fi_df['feature_importance'], y=fi_df['feature_names'], palette=\"rocket\")\n",
    "    plt.title(model_type + ' Feature Importance')\n",
    "    plt.xlabel('Feature Importance')\n",
    "    plt.ylabel('Feature Names')"
   ],
   "outputs": [],
   "metadata": {}
  },
  {
   "cell_type": "code",
   "execution_count": 40,
   "source": [
    "print(len(rf_importances))\n",
    "print(len(X_train.columns))\n",
    "# add column name after Point_10 was OneHotEncoded so importances and columns are same length\n",
    "postprocess_columns = list(X_train.columns.copy())\n",
    "postprocess_columns.append('Point_10_OFF')"
   ],
   "outputs": [
    {
     "output_type": "stream",
     "name": "stdout",
     "text": [
      "14\n",
      "13\n"
     ]
    }
   ],
   "metadata": {}
  },
  {
   "cell_type": "markdown",
   "source": [
    "### Random Forest"
   ],
   "metadata": {}
  },
  {
   "cell_type": "code",
   "execution_count": 41,
   "source": [
    "plot_feature_importance(rf_importances, postprocess_columns, 'Random Forest')"
   ],
   "outputs": [
    {
     "output_type": "display_data",
     "data": {
      "text/plain": [
       "<Figure size 720x576 with 1 Axes>"
      ],
      "image/png": "[encoded data removed]"
     },
     "metadata": {}
    }
   ],
   "metadata": {}
  },
  {
   "cell_type": "markdown",
   "source": [
    "### Gradient Boost"
   ],
   "metadata": {}
  },
  {
   "cell_type": "code",
   "execution_count": 42,
   "source": [
    "plot_feature_importance(gb_importances, postprocess_columns, 'Gradient Boost')"
   ],
   "outputs": [
    {
     "output_type": "display_data",
     "data": {
      "text/plain": [
       "<Figure size 720x576 with 1 Axes>"
      ],
      "image/png": "[encoded data removed]"
     },
     "metadata": {}
    }
   ],
   "metadata": {}
  },
  {
   "cell_type": "markdown",
   "source": [
    "### XGBoost"
   ],
   "metadata": {}
  },
  {
   "cell_type": "code",
   "execution_count": 43,
   "source": [
    "plot_feature_importance(xgb_importances, postprocess_columns, 'XGBoost')"
   ],
   "outputs": [
    {
     "output_type": "display_data",
     "data": {
      "text/plain": [
       "<Figure size 720x576 with 1 Axes>"
      ],
      "image/png": "[encoded data removed]"
     },
     "metadata": {}
    }
   ],
   "metadata": {}
  },
  {
   "cell_type": "markdown",
   "source": [
    "### Light Gradient Boost"
   ],
   "metadata": {}
  },
  {
   "cell_type": "code",
   "execution_count": 44,
   "source": [
    "plot_feature_importance(lgb_importances, postprocess_columns, 'Light Gradient Boost')"
   ],
   "outputs": [
    {
     "output_type": "display_data",
     "data": {
      "text/plain": [
       "<Figure size 720x576 with 1 Axes>"
      ],
      "image/png": "[encoded data removed]"
     },
     "metadata": {}
    }
   ],
   "metadata": {}
  },
  {
   "cell_type": "markdown",
   "source": [
    "**Ranked List**\n",
    "- Point_90: \"AVOAT\" - Average Outside Air Temp\n",
    "- Point_21: \"A1MAT\" - Mixed Air Temp\n",
    "- Point_22: \"A1MNRE\" - Min Room Error\n",
    "- Point_37: \"A1SAT\" - Supply Air Temp\n",
    "- Point_26: \"A1MXRT\" - Max Room Temp\n",
    "- Point_17: \"A1LPS\" - Total Flow\n",
    "- Point_194: \"MUA1SAT\" - Make Up Air Unit 1 Supply Temp\n",
    "- Point_198: \"MUA2SAT\" - Make Up Air Unit 2 Supply Temp\n",
    "- Point_13: \"A1DP\" - Duct Pressure Point\n",
    "- Point_23: \"A1MNRT\" - Min Room Temp\n",
    "- Point_34: \"A1SAK\" - Set Point\n",
    "- Point_9: \"A1CO2\" - Return Carbon Dioxide\n",
    "- Point_ 10: \"A1DAY\" - Air Handling Unit Supply Fan"
   ],
   "metadata": {}
  },
  {
   "cell_type": "code",
   "execution_count": 45,
   "source": [
    "# reprinted here for easy reference to feature importances\n",
    "df_feat.describe()"
   ],
   "outputs": [
    {
     "output_type": "execute_result",
     "data": {
      "text/plain": [
       "       Hourly Energy Cons (kWh)     Point_34     Point_17     Point_37  \\\n",
       "count               8759.000000  8759.000000  8759.000000  8759.000000   \n",
       "mean                  24.682612    21.502398  1876.525973    21.093675   \n",
       "std                   12.692877     5.174269  1887.459660     4.203152   \n",
       "min                    0.000000    10.000000     0.000000     9.900000   \n",
       "25%                   15.000000    17.100000   334.000000    17.900000   \n",
       "50%                   20.000000    20.700000   651.000000    20.600000   \n",
       "75%                   35.000000    26.000000  3565.000000    24.000000   \n",
       "max                   75.000000    32.300000  7474.000000    32.200000   \n",
       "\n",
       "          Point_21    Point_194     Point_26     Point_22      Point_9  \\\n",
       "count  8759.000000  8759.000000  8759.000000  8759.000000  8759.000000   \n",
       "mean     20.189999    19.061971    23.206325    -0.267439   446.183811   \n",
       "std       4.000844     3.800795     1.905135     3.277519    45.515758   \n",
       "min      11.300000    13.100000    19.300000    -9.100000   396.000000   \n",
       "25%      17.300000    15.400000    21.700000    -2.700000   410.000000   \n",
       "50%      20.100000    18.900000    23.700000    -1.500000   447.000000   \n",
       "75%      22.000000    21.100000    24.400000     2.600000   477.000000   \n",
       "max      39.400000    33.500000    34.200000    10.100000   729.000000   \n",
       "\n",
       "          Point_13     Point_23     Point_90    Point_198  \n",
       "count  8759.000000  8759.000000  8759.000000  8759.000000  \n",
       "mean    114.315447    19.323781    13.028816    18.574015  \n",
       "std     126.059888     2.385430     6.243140     3.963442  \n",
       "min       8.000000    14.900000    -1.200000    12.900000  \n",
       "25%      15.000000    17.100000     7.900000    14.900000  \n",
       "50%      22.000000    20.000000    12.300000    18.300000  \n",
       "75%     210.000000    21.300000    17.800000    20.900000  \n",
       "max     478.000000    26.200000    32.300000    32.600000  "
      ],
      "text/html": [
       "<div>\n",
       "<style scoped>\n",
       "    .dataframe tbody tr th:only-of-type {\n",
       "        vertical-align: middle;\n",
       "    }\n",
       "\n",
       "    .dataframe tbody tr th {\n",
       "        vertical-align: top;\n",
       "    }\n",
       "\n",
       "    .dataframe thead th {\n",
       "        text-align: right;\n",
       "    }\n",
       "</style>\n",
       "<table border=\"1\" class=\"dataframe\">\n",
       "  <thead>\n",
       "    <tr style=\"text-align: right;\">\n",
       "      <th></th>\n",
       "      <th>Hourly Energy Cons (kWh)</th>\n",
       "      <th>Point_34</th>\n",
       "      <th>Point_17</th>\n",
       "      <th>Point_37</th>\n",
       "      <th>Point_21</th>\n",
       "      <th>Point_194</th>\n",
       "      <th>Point_26</th>\n",
       "      <th>Point_22</th>\n",
       "      <th>Point_9</th>\n",
       "      <th>Point_13</th>\n",
       "      <th>Point_23</th>\n",
       "      <th>Point_90</th>\n",
       "      <th>Point_198</th>\n",
       "    </tr>\n",
       "  </thead>\n",
       "  <tbody>\n",
       "    <tr>\n",
       "      <th>count</th>\n",
       "      <td>8759.000000</td>\n",
       "      <td>8759.000000</td>\n",
       "      <td>8759.000000</td>\n",
       "      <td>8759.000000</td>\n",
       "      <td>8759.000000</td>\n",
       "      <td>8759.000000</td>\n",
       "      <td>8759.000000</td>\n",
       "      <td>8759.000000</td>\n",
       "      <td>8759.000000</td>\n",
       "      <td>8759.000000</td>\n",
       "      <td>8759.000000</td>\n",
       "      <td>8759.000000</td>\n",
       "      <td>8759.000000</td>\n",
       "    </tr>\n",
       "    <tr>\n",
       "      <th>mean</th>\n",
       "      <td>24.682612</td>\n",
       "      <td>21.502398</td>\n",
       "      <td>1876.525973</td>\n",
       "      <td>21.093675</td>\n",
       "      <td>20.189999</td>\n",
       "      <td>19.061971</td>\n",
       "      <td>23.206325</td>\n",
       "      <td>-0.267439</td>\n",
       "      <td>446.183811</td>\n",
       "      <td>114.315447</td>\n",
       "      <td>19.323781</td>\n",
       "      <td>13.028816</td>\n",
       "      <td>18.574015</td>\n",
       "    </tr>\n",
       "    <tr>\n",
       "      <th>std</th>\n",
       "      <td>12.692877</td>\n",
       "      <td>5.174269</td>\n",
       "      <td>1887.459660</td>\n",
       "      <td>4.203152</td>\n",
       "      <td>4.000844</td>\n",
       "      <td>3.800795</td>\n",
       "      <td>1.905135</td>\n",
       "      <td>3.277519</td>\n",
       "      <td>45.515758</td>\n",
       "      <td>126.059888</td>\n",
       "      <td>2.385430</td>\n",
       "      <td>6.243140</td>\n",
       "      <td>3.963442</td>\n",
       "    </tr>\n",
       "    <tr>\n",
       "      <th>min</th>\n",
       "      <td>0.000000</td>\n",
       "      <td>10.000000</td>\n",
       "      <td>0.000000</td>\n",
       "      <td>9.900000</td>\n",
       "      <td>11.300000</td>\n",
       "      <td>13.100000</td>\n",
       "      <td>19.300000</td>\n",
       "      <td>-9.100000</td>\n",
       "      <td>396.000000</td>\n",
       "      <td>8.000000</td>\n",
       "      <td>14.900000</td>\n",
       "      <td>-1.200000</td>\n",
       "      <td>12.900000</td>\n",
       "    </tr>\n",
       "    <tr>\n",
       "      <th>25%</th>\n",
       "      <td>15.000000</td>\n",
       "      <td>17.100000</td>\n",
       "      <td>334.000000</td>\n",
       "      <td>17.900000</td>\n",
       "      <td>17.300000</td>\n",
       "      <td>15.400000</td>\n",
       "      <td>21.700000</td>\n",
       "      <td>-2.700000</td>\n",
       "      <td>410.000000</td>\n",
       "      <td>15.000000</td>\n",
       "      <td>17.100000</td>\n",
       "      <td>7.900000</td>\n",
       "      <td>14.900000</td>\n",
       "    </tr>\n",
       "    <tr>\n",
       "      <th>50%</th>\n",
       "      <td>20.000000</td>\n",
       "      <td>20.700000</td>\n",
       "      <td>651.000000</td>\n",
       "      <td>20.600000</td>\n",
       "      <td>20.100000</td>\n",
       "      <td>18.900000</td>\n",
       "      <td>23.700000</td>\n",
       "      <td>-1.500000</td>\n",
       "      <td>447.000000</td>\n",
       "      <td>22.000000</td>\n",
       "      <td>20.000000</td>\n",
       "      <td>12.300000</td>\n",
       "      <td>18.300000</td>\n",
       "    </tr>\n",
       "    <tr>\n",
       "      <th>75%</th>\n",
       "      <td>35.000000</td>\n",
       "      <td>26.000000</td>\n",
       "      <td>3565.000000</td>\n",
       "      <td>24.000000</td>\n",
       "      <td>22.000000</td>\n",
       "      <td>21.100000</td>\n",
       "      <td>24.400000</td>\n",
       "      <td>2.600000</td>\n",
       "      <td>477.000000</td>\n",
       "      <td>210.000000</td>\n",
       "      <td>21.300000</td>\n",
       "      <td>17.800000</td>\n",
       "      <td>20.900000</td>\n",
       "    </tr>\n",
       "    <tr>\n",
       "      <th>max</th>\n",
       "      <td>75.000000</td>\n",
       "      <td>32.300000</td>\n",
       "      <td>7474.000000</td>\n",
       "      <td>32.200000</td>\n",
       "      <td>39.400000</td>\n",
       "      <td>33.500000</td>\n",
       "      <td>34.200000</td>\n",
       "      <td>10.100000</td>\n",
       "      <td>729.000000</td>\n",
       "      <td>478.000000</td>\n",
       "      <td>26.200000</td>\n",
       "      <td>32.300000</td>\n",
       "      <td>32.600000</td>\n",
       "    </tr>\n",
       "  </tbody>\n",
       "</table>\n",
       "</div>"
      ]
     },
     "metadata": {},
     "execution_count": 45
    }
   ],
   "metadata": {}
  },
  {
   "cell_type": "markdown",
   "source": [
    "**Notes:**\n",
    "- Point_10 Trial: Air Handling Unit Supply Fan (Building occupied when ON)\n",
    "    - All Models performed 2-3% worse when Point_10 eliminated from data set\n",
    "    - Even though it is low on the importance list, it still helps model performance\n",
    "    - Undoubtedly has an effect on energy consumption\n",
    "- Iteration 1 models all performed well, but saw increases when features were added in iteration 2\n",
    "    - Added features were the result of a second feature importance trial, combining results here and in PyCaret\n",
    "- Models might benefit from even more features: something to test in future"
   ],
   "metadata": {}
  },
  {
   "cell_type": "markdown",
   "source": [
    "### Testing for Streamlit Prediction"
   ],
   "metadata": {}
  },
  {
   "cell_type": "code",
   "execution_count": 46,
   "source": [
    "test = pd.DataFrame([{'Point_34': 33, \n",
    "                        'Point_17': 3000, \n",
    "                        'Point_37': 9, \n",
    "                        'Point_21': 20, \n",
    "                        'Point_194': 34, \n",
    "                        'Point_26': 35, \n",
    "                        'Point_22': 5, \n",
    "                        'Point_9': 450, \n",
    "                        'Point_13': 200, \n",
    "                        'Point_23': 21, \n",
    "                        'Point_90': 10, \n",
    "                        'Point_198': 22, \n",
    "                        'Point_10': 'ON'}])\n",
    "test"
   ],
   "outputs": [
    {
     "output_type": "execute_result",
     "data": {
      "text/plain": [
       "   Point_34  Point_17  Point_37  Point_21  Point_194  Point_26  Point_22  \\\n",
       "0        33      3000         9        20         34        35         5   \n",
       "\n",
       "   Point_9  Point_13  Point_23  Point_90  Point_198 Point_10  \n",
       "0      450       200        21        10         22       ON  "
      ],
      "text/html": [
       "<div>\n",
       "<style scoped>\n",
       "    .dataframe tbody tr th:only-of-type {\n",
       "        vertical-align: middle;\n",
       "    }\n",
       "\n",
       "    .dataframe tbody tr th {\n",
       "        vertical-align: top;\n",
       "    }\n",
       "\n",
       "    .dataframe thead th {\n",
       "        text-align: right;\n",
       "    }\n",
       "</style>\n",
       "<table border=\"1\" class=\"dataframe\">\n",
       "  <thead>\n",
       "    <tr style=\"text-align: right;\">\n",
       "      <th></th>\n",
       "      <th>Point_34</th>\n",
       "      <th>Point_17</th>\n",
       "      <th>Point_37</th>\n",
       "      <th>Point_21</th>\n",
       "      <th>Point_194</th>\n",
       "      <th>Point_26</th>\n",
       "      <th>Point_22</th>\n",
       "      <th>Point_9</th>\n",
       "      <th>Point_13</th>\n",
       "      <th>Point_23</th>\n",
       "      <th>Point_90</th>\n",
       "      <th>Point_198</th>\n",
       "      <th>Point_10</th>\n",
       "    </tr>\n",
       "  </thead>\n",
       "  <tbody>\n",
       "    <tr>\n",
       "      <th>0</th>\n",
       "      <td>33</td>\n",
       "      <td>3000</td>\n",
       "      <td>9</td>\n",
       "      <td>20</td>\n",
       "      <td>34</td>\n",
       "      <td>35</td>\n",
       "      <td>5</td>\n",
       "      <td>450</td>\n",
       "      <td>200</td>\n",
       "      <td>21</td>\n",
       "      <td>10</td>\n",
       "      <td>22</td>\n",
       "      <td>ON</td>\n",
       "    </tr>\n",
       "  </tbody>\n",
       "</table>\n",
       "</div>"
      ]
     },
     "metadata": {},
     "execution_count": 46
    }
   ],
   "metadata": {}
  },
  {
   "cell_type": "code",
   "execution_count": 47,
   "source": [
    "result = lgb_pipeline.predict(test)"
   ],
   "outputs": [],
   "metadata": {}
  },
  {
   "cell_type": "code",
   "execution_count": 48,
   "source": [
    "result[0]"
   ],
   "outputs": [
    {
     "output_type": "execute_result",
     "data": {
      "text/plain": [
       "47.50247732443862"
      ]
     },
     "metadata": {},
     "execution_count": 48
    }
   ],
   "metadata": {}
  }
 ],
 "metadata": {
  "interpreter": {
   "hash": "233d489b6eb679bbd82a77c34b6348f6f8b942d20c1f9e48939f104b69f0434c"
  },
  "kernelspec": {
   "display_name": "Python 3.8.5 64-bit ('base': conda)",
   "name": "python3"
  },
  "language_info": {
   "codemirror_mode": {
    "name": "ipython",
    "version": 3
   },
   "file_extension": ".py",
   "mimetype": "text/x-python",
   "name": "python",
   "nbconvert_exporter": "python",
   "pygments_lexer": "ipython3",
   "version": "3.8.5"
  },
  "orig_nbformat": 4
 },
 "nbformat": 4,
 "nbformat_minor": 2
}